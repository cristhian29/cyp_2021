{
  "nbformat": 4,
  "nbformat_minor": 0,
  "metadata": {
    "colab": {
      "name": "14_Enero_CyP.ipynb",
      "provenance": [],
      "authorship_tag": "ABX9TyOCyrTjPMYFMT1Fkt6BSd2j",
      "include_colab_link": true
    },
    "kernelspec": {
      "name": "python3",
      "display_name": "Python 3"
    }
  },
  "cells": [
    {
      "cell_type": "markdown",
      "metadata": {
        "id": "view-in-github",
        "colab_type": "text"
      },
      "source": [
        "<a href=\"https://colab.research.google.com/github/cristhian29/cyp_2021/blob/main/14_Enero_CyP.ipynb\" target=\"_parent\"><img src=\"https://colab.research.google.com/assets/colab-badge.svg\" alt=\"Open In Colab\"/></a>"
      ]
    },
    {
      "cell_type": "markdown",
      "metadata": {
        "id": "S712avso5Fuu"
      },
      "source": [
        "#Palabras reservadas de Python 3\r\n",
        "\r\n",
        "1. False\r\n",
        "1. None\r\n",
        "1. True\r\n",
        "1. and\r\n",
        "1. as\r\n",
        "1. assert\r\n",
        "1. break\r\n",
        "1. class\r\n",
        "1. continue\r\n",
        "1. def\r\n",
        "1. del\r\n",
        "1. elif\r\n",
        "1. else\r\n",
        "1. except\r\n",
        "1. finally\r\n",
        "1. for\r\n",
        "1. from\r\n",
        "1. global\r\n",
        "1. if\r\n",
        "1. import\r\n",
        "1. in\r\n",
        "1. is\r\n",
        "1. lambda\r\n",
        "1. nonlocal\r\n",
        "1. not\r\n",
        "1. or\r\n",
        "1. pass\r\n",
        "1. raise\r\n",
        "1. return\r\n",
        "1. try\r\n",
        "1. while\r\n",
        "1. with\r\n",
        "1. yield"
      ]
    },
    {
      "cell_type": "code",
      "metadata": {
        "colab": {
          "base_uri": "https://localhost:8080/"
        },
        "id": "wswwCOBX5hFV",
        "outputId": "7299efd8-f4ea-492b-d567-636f643b329e"
      },
      "source": [
        "import keyword\r\n",
        "pr = keyword.kwlist\r\n",
        "print( len(pr))\r\n",
        "for palabra in pr:\r\n",
        "  print( \"1.\",palabra) "
      ],
      "execution_count": 6,
      "outputs": [
        {
          "output_type": "stream",
          "text": [
            "33\n",
            "1. False\n",
            "1. None\n",
            "1. True\n",
            "1. and\n",
            "1. as\n",
            "1. assert\n",
            "1. break\n",
            "1. class\n",
            "1. continue\n",
            "1. def\n",
            "1. del\n",
            "1. elif\n",
            "1. else\n",
            "1. except\n",
            "1. finally\n",
            "1. for\n",
            "1. from\n",
            "1. global\n",
            "1. if\n",
            "1. import\n",
            "1. in\n",
            "1. is\n",
            "1. lambda\n",
            "1. nonlocal\n",
            "1. not\n",
            "1. or\n",
            "1. pass\n",
            "1. raise\n",
            "1. return\n",
            "1. try\n",
            "1. while\n",
            "1. with\n",
            "1. yield\n"
          ],
          "name": "stdout"
        }
      ]
    },
    {
      "cell_type": "markdown",
      "metadata": {
        "id": "i5vq9Wi-68rC"
      },
      "source": [
        "#Variable\r\n",
        "es un espacio de memoria de la computadora para almacenar valores que cambian a lo largo de la ejecucion del programa. este espacio de memoria esta referenciado por un identificador, el cual tine ciertas reglas de nombrado.\r\n",
        "- no debe ser igual a alguna de las palabras reservadas \r\n",
        "- no puede iniciar con numero\r\n",
        "- puede iniciar con_\r\n",
        "- evitar nombre de variables largos\r\n",
        "- evitar muy cortos x, y, i.\r\n",
        "- usar la notacion snake_case"
      ]
    },
    {
      "cell_type": "code",
      "metadata": {
        "colab": {
          "base_uri": "https://localhost:8080/",
          "height": 52
        },
        "id": "2-loPOt-8KXB",
        "outputId": "b991e7f4-0de9-4a70-e285-e25d3c00423d"
      },
      "source": [
        "_2edad = 12\r\n",
        "print(_2edad)\r\n",
        "\r\n",
        "\"\"\"\r\n",
        "\r\n",
        "No se puede usar una palabra reservada como identificador de variable:\r\n",
        "\r\n",
        "for = 12\r\n",
        "print(for)\r\n",
        "\r\n",
        "\"\"\"\r\n",
        "\r\n"
      ],
      "execution_count": 12,
      "outputs": [
        {
          "output_type": "stream",
          "text": [
            "12\n"
          ],
          "name": "stdout"
        },
        {
          "output_type": "execute_result",
          "data": {
            "application/vnd.google.colaboratory.intrinsic+json": {
              "type": "string"
            },
            "text/plain": [
              "'\\n\\nNo se puede usar una palabra reservada como identificador de variable:\\n\\nfor = 12\\nprint(for)\\n\\n'"
            ]
          },
          "metadata": {
            "tags": []
          },
          "execution_count": 12
        }
      ]
    },
    {
      "cell_type": "code",
      "metadata": {
        "colab": {
          "base_uri": "https://localhost:8080/"
        },
        "id": "G7DfmvW99KIZ",
        "outputId": "2f5b6008-c276-456b-f71b-b181f4d396bf"
      },
      "source": [
        "\"\"\"\r\n",
        "la notacion snake case consta en formar el identificador de la variable \r\n",
        "separando las palabras del mismo con un guion bajo. \r\n",
        "\r\n",
        "se recomienda que los identificadore se escriban con minusculas para las variabes \r\n",
        "y en mayusculas para las constantes \r\n",
        "\r\n",
        "es decir si tenemos una variable para los dias de la semana se escribiria asi:\r\n",
        "\r\n",
        "dias_de_la_semana = 7\r\n",
        "dias_del_mes = 31\r\n",
        "limite_maximo = 100\r\n",
        "\r\n",
        "\"\"\"\r\n",
        "dias_de_la_semana = 7\r\n",
        "print(dias_de_la_semana)\r\n",
        "\r\n",
        "diasdelasemana = 7\r\n",
        "print(diasdelasemana)\r\n",
        "\r\n",
        "# Lower camel case\r\n",
        "diasDeLaSemana = 7\r\n",
        "\r\n",
        "# Upper camel case\r\n",
        "SemanSanta = 23"
      ],
      "execution_count": 14,
      "outputs": [
        {
          "output_type": "stream",
          "text": [
            "7\n",
            "7\n"
          ],
          "name": "stdout"
        }
      ]
    },
    {
      "cell_type": "markdown",
      "metadata": {
        "id": "FKH68-7A96b_"
      },
      "source": [
        "#Tipos de datos\r\n",
        "- tipos numericos \r\n",
        "  - int 4 bytes (1, 2, 3,... 15468, etc)\r\n",
        "\r\n",
        "  - float 4 byte (1.5, 3.1416, 1.0)\r\n",
        "  - long 8 bytes (1,2,5254222,544, etc)\r\n",
        "  - complex 3 + 2j (raices negativas)\r\n",
        "- Boolean: True o False\r\n",
        "- String lista de caracteres ( \"cad\", 'cad', \"\"\"cad\"\"\")\r\n",
        "- Listas ([1,2,3,4], [a,b,c,d])\r\n",
        "- tuplas ((edad,19) , (3,4))\r\n",
        "- conjuntos\r\n",
        "- diccionarios ({\"nombre\":\"juan\"}\"})"
      ]
    },
    {
      "cell_type": "markdown",
      "metadata": {
        "id": "lcoIaUGEEcIs"
      },
      "source": [
        "#Tipo de dato string\r\n",
        "Este tipo de datos permite almacenar cadenas de caracteres como por ejemplo:\r\n",
        "\r\n",
        "´´´´\r\n",
        "nombre = 'Cristhian'\r\n",
        "lugar_nacimiento = \"Mexico D.F., Tacuba\"\r\n",
        "frase_favorita =\"\"\" \r\n",
        "El conocimiento\r\n",
        "me persigue,\r\n",
        "pero...\r\n",
        "yo soy más rápido!!!\r\n",
        ":)\r\n",
        "\"\"\"\r\n",
        "´´´´"
      ]
    },
    {
      "cell_type": "code",
      "metadata": {
        "colab": {
          "base_uri": "https://localhost:8080/"
        },
        "id": "guJP36NSFj4E",
        "outputId": "509224aa-b92d-4476-a01c-c57c733df68b"
      },
      "source": [
        "nombre = 'Cristhian'\r\n",
        "lugar_nacimiento = \"Mexico D.F., Tacuba\"\r\n",
        "frase_favorita =\"\"\" \r\n",
        "El conocimiento\r\n",
        "me persigue,\r\n",
        "pero...\r\n",
        "yo soy más rápido!!!\r\n",
        ":)\r\n",
        "\"\"\"\r\n",
        "\r\n",
        "print(nombre)\r\n",
        "print(lugar_nacimiento)\r\n",
        "print(frase_favorita)"
      ],
      "execution_count": 16,
      "outputs": [
        {
          "output_type": "stream",
          "text": [
            "Cristhian\n",
            "Mexico D.F., Tacuba\n",
            " \n",
            "El conocimiento\n",
            "me persigue,\n",
            "pero...\n",
            "yo soy más rápido!!!\n",
            ":)\n",
            "\n"
          ],
          "name": "stdout"
        }
      ]
    },
    {
      "cell_type": "markdown",
      "metadata": {
        "id": "WCQ1usMWFzaT"
      },
      "source": [
        "#String como arreglo\r\n",
        "Un string en Python en almacenado como el tipo de dato  (estructurra de datos) arreglo.\r\n",
        "por ejemplo la declaracion:\r\n",
        "\r\n",
        "```\r\n",
        "nombre = 'cristhian'\r\n",
        "```\r\n",
        "el elemnto \"c\" es almacenado en un arreglo en la posicion 0.\r\n",
        "la r en la 1 y asi sucecivamente.\r\n",
        "\r\n",
        "###selector\r\n",
        "la notacion para seleccionar un elemento del arreglo es:\r\n",
        "\r\n",
        "```\r\n",
        "[1]\r\n",
        "```\r\n",
        "donde el valor interno deber ser un numerico entero"
      ]
    },
    {
      "cell_type": "code",
      "metadata": {
        "colab": {
          "base_uri": "https://localhost:8080/"
        },
        "id": "KoF9Q8-yHk7O",
        "outputId": "86c826bc-243c-4f90-bc95-2333b4fa2791"
      },
      "source": [
        "nombre = 'cristhian'\r\n",
        "print(nombre)\r\n",
        "print(nombre[0])\r\n",
        "print(nombre[1])"
      ],
      "execution_count": 17,
      "outputs": [
        {
          "output_type": "stream",
          "text": [
            "cristhian\n",
            "c\n",
            "r\n"
          ],
          "name": "stdout"
        }
      ]
    },
    {
      "cell_type": "markdown",
      "metadata": {
        "id": "8lHLcv1YH3Tn"
      },
      "source": [
        "#Interar sobre un string \r\n",
        "se puede interar sobre un string con un for de la forma:\r\n",
        "```\r\n",
        "for letra in range (len (nombre))\r\n",
        "  print(letra)\r\n",
        "```"
      ]
    },
    {
      "cell_type": "code",
      "metadata": {
        "colab": {
          "base_uri": "https://localhost:8080/"
        },
        "id": "79xqgIN3IXHc",
        "outputId": "3ffb1ce8-5a81-4bc3-f6a2-50c901ab09a0"
      },
      "source": [
        "for indice in range (len(nombre)):\r\n",
        "  print(indice , end = \" \")\r\n",
        "  print(nombre[indice])"
      ],
      "execution_count": 20,
      "outputs": [
        {
          "output_type": "stream",
          "text": [
            "0 c\n",
            "1 r\n",
            "2 i\n",
            "3 s\n",
            "4 t\n",
            "5 h\n",
            "6 i\n",
            "7 a\n",
            "8 n\n"
          ],
          "name": "stdout"
        }
      ]
    },
    {
      "cell_type": "markdown",
      "metadata": {
        "id": "wrTDAoaVKHAo"
      },
      "source": [
        "#Funcion range (inicio, stop, incremento)\r\n",
        "inicion es opcional y por defecto tiene el valor 0\r\n",
        "el incremento tambien es opcional y por defecto es 1\r\n"
      ]
    },
    {
      "cell_type": "code",
      "metadata": {
        "colab": {
          "base_uri": "https://localhost:8080/"
        },
        "id": "ZQVhqxq0Jznw",
        "outputId": "e4b0a5d5-b861-442b-cc23-e79690aa5ed1"
      },
      "source": [
        "for indice in range(0, len(nombre), 1):\r\n",
        "  print(nombre[indice])"
      ],
      "execution_count": 23,
      "outputs": [
        {
          "output_type": "stream",
          "text": [
            "c\n",
            "r\n",
            "i\n",
            "s\n",
            "t\n",
            "h\n",
            "i\n",
            "a\n",
            "n\n"
          ],
          "name": "stdout"
        }
      ]
    },
    {
      "cell_type": "code",
      "metadata": {
        "colab": {
          "base_uri": "https://localhost:8080/"
        },
        "id": "OXCUINAPK3N7",
        "outputId": "8b5e98e3-9894-4a57-daf5-d209f1806b0d"
      },
      "source": [
        "for indice in range(8, -1,-1):\r\n",
        "  print(nombre[indice])"
      ],
      "execution_count": 32,
      "outputs": [
        {
          "output_type": "stream",
          "text": [
            "n\n",
            "a\n",
            "i\n",
            "h\n",
            "t\n",
            "s\n",
            "i\n",
            "r\n",
            "c\n"
          ],
          "name": "stdout"
        }
      ]
    },
    {
      "cell_type": "markdown",
      "metadata": {
        "id": "eK7p-p5TL3vS"
      },
      "source": [
        "#Strings e indexado negativo\r\n",
        "en python 3 se agrega una nueva caracteristica a los arreglos de las cadenas de caracteres, esta consta de la capacidad de indexar de forma negativa.\r\n",
        "\r\n",
        "la logica es la siguiente.\r\n",
        "\r\n",
        "el ultimo elemento se le considera como indice (ALTERNATIVO)-1, Ccon lo cual se podria referenciar el final de la cadena sin necesidad de saber el tamaño de la misma\r\n",
        "\r\n",
        "```\r\n",
        "nombre = 'cristhian'\r\n",
        "\r\n",
        "indice normal.  0 1 2 3 4 5 6 7 8\r\n",
        "                c r i s t h i a n\r\n",
        "indice alter.  -9-8-7-6-5-4-3-2-1\r\n",
        "```"
      ]
    },
    {
      "cell_type": "code",
      "metadata": {
        "colab": {
          "base_uri": "https://localhost:8080/"
        },
        "id": "943BbJP9OGbY",
        "outputId": "e0094e9e-df74-4b36-fcd4-93c98186bff6"
      },
      "source": [
        "nombre = 'cristhian'\r\n",
        "print(nombre[8])\r\n",
        "print(nombre[-1])\r\n",
        "print(\" \")\r\n",
        "for indice_alter in range(-1 , -10, -1 ):\r\n",
        "  print(nombre[indice_alter])"
      ],
      "execution_count": 48,
      "outputs": [
        {
          "output_type": "stream",
          "text": [
            "n\n",
            "n\n",
            " \n",
            "n\n",
            "a\n",
            "i\n",
            "h\n",
            "t\n",
            "s\n",
            "i\n",
            "r\n",
            "c\n"
          ],
          "name": "stdout"
        }
      ]
    },
    {
      "cell_type": "markdown",
      "metadata": {
        "id": "RnnmyhC-P4-T"
      },
      "source": [
        "#Slicing de cadenas de caracteres\r\n",
        "esta caracteristica permite sacar secciones de una cadena con la siguiente cadena\r\n",
        "\r\n",
        "```\r\n",
        "[inicio : stop : incremento]\r\n",
        "```\r\n",
        "donde inicio e incremento son opcionales y tambien soporta indexado alternativo (negativo)"
      ]
    },
    {
      "cell_type": "code",
      "metadata": {
        "colab": {
          "base_uri": "https://localhost:8080/"
        },
        "id": "Ag1B_wxqQcQ1",
        "outputId": "ef494acb-0619-49df-b080-f082e375d5f3"
      },
      "source": [
        "facultad = \"Facultad de Estudios Superiores Aragon '(la mejor)' \"\r\n",
        "print(facultad)\r\n",
        "for indice in range(12, 20, 1):\r\n",
        "  print(facultad[indice] , end = \"\")\r\n",
        "\r\n",
        "#Hacer esto mismo con la caracteristica slicing\r\n",
        "\r\n",
        "print(\"\\nCon Slicing\")\r\n",
        "print(facultad[12:20:1])\r\n",
        "\r\n",
        "#con slicing la palabra \"de\"\r\n",
        "\r\n",
        "print(facultad[9:11:1])\r\n",
        "\r\n",
        "#la frase la '(la mejor)' con indexado alternativo e slicing\r\n",
        "\r\n",
        "print(facultad[-13: -1: 1])"
      ],
      "execution_count": 70,
      "outputs": [
        {
          "output_type": "stream",
          "text": [
            "Facultad de Estudios Superiores Aragon '(la mejor)' \n",
            "Estudios\n",
            "Con Slicing\n",
            "Estudios\n",
            "de\n",
            "'(la mejor)'\n"
          ],
          "name": "stdout"
        }
      ]
    }
  ]
}