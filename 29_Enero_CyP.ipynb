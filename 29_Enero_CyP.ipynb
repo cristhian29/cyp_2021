{
  "nbformat": 4,
  "nbformat_minor": 0,
  "metadata": {
    "colab": {
      "name": "29_Enero_CyP.ipynb",
      "provenance": [],
      "authorship_tag": "ABX9TyMs9PN8EMqKmKDbPbWfmlRN",
      "include_colab_link": true
    },
    "kernelspec": {
      "name": "python3",
      "display_name": "Python 3"
    }
  },
  "cells": [
    {
      "cell_type": "markdown",
      "metadata": {
        "id": "view-in-github",
        "colab_type": "text"
      },
      "source": [
        "<a href=\"https://colab.research.google.com/github/cristhian29/cyp_2021/blob/main/29_Enero_CyP.ipynb\" target=\"_parent\"><img src=\"https://colab.research.google.com/assets/colab-badge.svg\" alt=\"Open In Colab\"/></a>"
      ]
    },
    {
      "cell_type": "markdown",
      "metadata": {
        "id": "ydn260_CtIFw"
      },
      "source": [
        "# Listas de Python 3\r\n",
        "1. Es una estructura de datos linal de 0 o n elmentos.\r\n",
        "1. \"Equivalente\" a las arreglos.\r\n",
        "1. Pueden ser de diferente tipo de dato. [1,2,3,4,5] , [1, True , 2.5 , \"Hola\"]\r\n",
        "1. Pueden ser anidadas, listas de listas [\"Melon\",[\"Manzana roja\" , \"Manzana amarilla\"]]\r\n",
        "1. Su selector es de la forma: [int]\r\n",
        "1. Son mutables."
      ]
    },
    {
      "cell_type": "code",
      "metadata": {
        "colab": {
          "base_uri": "https://localhost:8080/"
        },
        "id": "LyUGTohpu7xN",
        "outputId": "98bdf0b6-ca34-41a7-ca60-e6f272d2e4e2"
      },
      "source": [
        "#Ejemplos\r\n",
        "numeros = [2,5,6,8,4,6]\r\n",
        "print(numeros)\r\n",
        "print(numeros[2])\r\n",
        "\r\n",
        "#Una lista de cero elementos\r\n",
        "colores = [] #List()\r\n",
        "type (colores) #Averiguar que tipo de dato es una variable con la funcion type\r\n",
        "dias = list ()\r\n",
        "print(colores)\r\n",
        "print(dias)"
      ],
      "execution_count": 5,
      "outputs": [
        {
          "output_type": "stream",
          "text": [
            "[2, 5, 6, 8, 4, 6]\n",
            "6\n",
            "[]\n",
            "[]\n"
          ],
          "name": "stdout"
        }
      ]
    },
    {
      "cell_type": "code",
      "metadata": {
        "colab": {
          "base_uri": "https://localhost:8080/"
        },
        "id": "xRjrmf2uwHsh",
        "outputId": "12b5e9de-a242-475f-9529-0727f2ff6481"
      },
      "source": [
        "#Pueden ser de diferente tipo de datos\r\n",
        "mi_lista = [1,2,3,\"Cristhian\", False , 1.69 ,[5464586391 , 5493728492 , 4687638197] ]\r\n",
        "print(mi_lista[5])\r\n",
        "print(mi_lista[6][1])\r\n",
        "print(mi_lista[3][8])\r\n",
        "print(mi_lista[3][8::])\r\n",
        "print(mi_lista[3][-1::1])\r\n",
        "mi_lista = [1,2,3,\"Cristhian\", False , 1.69 ,[\"5464586391\" , \"5493728492\" , \"4687638197\"] ]\r\n",
        "print(mi_lista[6][1][4])"
      ],
      "execution_count": 30,
      "outputs": [
        {
          "output_type": "stream",
          "text": [
            "1.69\n",
            "5493728492\n",
            "n\n",
            "n\n",
            "n\n",
            "7\n"
          ],
          "name": "stdout"
        }
      ]
    },
    {
      "cell_type": "code",
      "metadata": {
        "colab": {
          "base_uri": "https://localhost:8080/"
        },
        "id": "RnK6lh780Y6C",
        "outputId": "ed77f72e-34f3-4e6a-a9cd-3ac4874b8f00"
      },
      "source": [
        "frutas = [\"melon\", \"sandia\", \"manzana\", \"mango\",\"platano\"]\r\n",
        "print(frutas)\r\n",
        "frutas[0] = \"Melon\"\r\n",
        "print(frutas)\r\n",
        "#frutas[1][0] = \"S\"\r\n",
        "frutas[1] = frutas[1].capitalize()\r\n",
        "print(frutas)"
      ],
      "execution_count": 26,
      "outputs": [
        {
          "output_type": "stream",
          "text": [
            "['melon', 'sandia', 'manzana', 'mango', 'platano']\n",
            "['Melon', 'sandia', 'manzana', 'mango', 'platano']\n",
            "['Melon', 'Sandia', 'manzana', 'mango', 'platano']\n"
          ],
          "name": "stdout"
        }
      ]
    },
    {
      "cell_type": "code",
      "metadata": {
        "colab": {
          "base_uri": "https://localhost:8080/"
        },
        "id": "I2qvVFHB2IEo",
        "outputId": "2c9b03ee-aec8-4afd-b730-858af929753c"
      },
      "source": [
        "#Las listas son clases por lo tanto son métodos.\r\n",
        "#Ejemploa: Append, agrega un elemento al final\r\n",
        "frutas = [\"melon\", \"sandia\", \"manzana\", \"mango\",\"platano\"]\r\n",
        "frutas.append(\"fresas\")\r\n",
        "print(frutas)\r\n",
        "print(\"\")\r\n",
        "print(\"Ejemplo de copia\")\r\n",
        "print(\"\")\r\n",
        "otras_frutas = frutas.copy()\r\n",
        "\r\n",
        "print(frutas)\r\n",
        "print(otras_frutas)\r\n",
        "otras_frutas[0] = \"Chico Zapote\"\r\n",
        "print(otras_frutas)\r\n",
        "print(frutas)\r\n",
        "print(\"------------------\")\r\n",
        "\r\n",
        "print(\"Ejemplo de extend\")\r\n",
        "print(\"\")\r\n",
        "colores = [\"rojo\", \"verde\", \"azul\"]\r\n",
        "frutas.extend(colores)\r\n",
        "print(frutas)\r\n",
        "\r\n",
        "print(\"\")\r\n",
        "\r\n",
        "print(\"Ejemplo Insert\")\r\n",
        "print(\"\")\r\n",
        "print(f\"Tamaño de la lista {len(frutas)}\")\r\n",
        "frutas.insert(3,\"Limon\")\r\n",
        "print(frutas)\r\n",
        "print(f\"Tamaño de la lista {len(frutas)}\")\r\n",
        "\r\n",
        "print(\"\")\r\n",
        "\r\n",
        "print(\"Ejemplo remove, eliminar manzana\")\r\n",
        "print(\"\")\r\n",
        "frutas.remove(\"manzana\")\r\n",
        "print(frutas)\r\n",
        "\r\n",
        "print(\"\")\r\n",
        "\r\n",
        "print(\"Ejemplo del\")\r\n",
        "print(\"\")\r\n",
        "del frutas[2]\r\n",
        "print(frutas)\r\n",
        "\r\n",
        "print(\"\")\r\n",
        "\r\n",
        "frutas.clear()\r\n",
        "print(frutas)"
      ],
      "execution_count": 51,
      "outputs": [
        {
          "output_type": "stream",
          "text": [
            "['melon', 'sandia', 'manzana', 'mango', 'platano', 'fresas']\n",
            "\n",
            "Ejemplo de copia\n",
            "\n",
            "['melon', 'sandia', 'manzana', 'mango', 'platano', 'fresas']\n",
            "['melon', 'sandia', 'manzana', 'mango', 'platano', 'fresas']\n",
            "['Chico Zapote', 'sandia', 'manzana', 'mango', 'platano', 'fresas']\n",
            "['melon', 'sandia', 'manzana', 'mango', 'platano', 'fresas']\n",
            "------------------\n",
            "Ejemplo de extend\n",
            "\n",
            "['melon', 'sandia', 'manzana', 'mango', 'platano', 'fresas', 'rojo', 'verde', 'azul']\n",
            "\n",
            "Ejemplo Insert\n",
            "\n",
            "Tamaño de la lista 9\n",
            "['melon', 'sandia', 'manzana', 'Limon', 'mango', 'platano', 'fresas', 'rojo', 'verde', 'azul']\n",
            "Tamaño de la lista 10\n",
            "\n",
            "Ejemplo remove, eliminar manzana\n",
            "\n",
            "['melon', 'sandia', 'Limon', 'mango', 'platano', 'fresas', 'rojo', 'verde', 'azul']\n",
            "\n",
            "Ejemplo del\n",
            "\n",
            "['melon', 'sandia', 'mango', 'platano', 'fresas', 'rojo', 'verde', 'azul']\n",
            "\n",
            "[]\n"
          ],
          "name": "stdout"
        }
      ]
    },
    {
      "cell_type": "code",
      "metadata": {
        "colab": {
          "base_uri": "https://localhost:8080/"
        },
        "id": "rNW7wQuJ2WF8",
        "outputId": "6fc3e4e1-987a-4eaa-ac1e-66f8ff47aa80"
      },
      "source": [
        "cosas = [\"Cristhian\", True, 1,2,3,4, \"Lopez\",5.5]\r\n",
        "\r\n",
        "indice = 0\r\n",
        "a_eliminar = []\r\n",
        "for elemento in cosas:\r\n",
        "  if isinstance( elemento, int):\r\n",
        "    print(\"Enetro\", elemento)\r\n",
        "    a_eliminar.append(elemento)\r\n",
        "  indice += 1\r\n",
        "print(a_eliminar)\r\n",
        "for indice in a_eliminar:\r\n",
        "  print(a_eliminar)\r\n",
        "  cosas.remove(indice)\r\n",
        "print(cosas)\r\n",
        "    "
      ],
      "execution_count": 60,
      "outputs": [
        {
          "output_type": "stream",
          "text": [
            "Enetro True\n",
            "Enetro 1\n",
            "Enetro 2\n",
            "Enetro 3\n",
            "Enetro 4\n",
            "[True, 1, 2, 3, 4]\n",
            "[True, 1, 2, 3, 4]\n",
            "[True, 1, 2, 3, 4]\n",
            "[True, 1, 2, 3, 4]\n",
            "[True, 1, 2, 3, 4]\n",
            "[True, 1, 2, 3, 4]\n",
            "['Cristhian', 'Lopez', 5.5]\n"
          ],
          "name": "stdout"
        }
      ]
    },
    {
      "cell_type": "code",
      "metadata": {
        "colab": {
          "base_uri": "https://localhost:8080/"
        },
        "id": "0ruMqiL4FLck",
        "outputId": "01f52273-5bab-4d7f-b368-a4ef2c51bad5"
      },
      "source": [
        "# Slicing sobre listas\r\n",
        "frutas = [\"melon\", \"sandia\", \"manzana\", \"mango\",\"platano\"]\r\n",
        "\r\n",
        "print(frutas[1:4:])\r\n",
        "\r\n",
        "sistemas_operativos = [\"Windows\",\"Mac OS\",\"Linux\",\"Android\"]\r\n",
        "autos = [\"Ford\",\"Mazda\",\"Honda\"]\r\n",
        "\r\n",
        "cosas = [sistemas_operativos , autos ]\r\n",
        "print(cosas)\r\n",
        "\r\n",
        "print(cosas[1])\r\n",
        "\r\n",
        "print(cosas[0][2])\r\n",
        "\r\n",
        "print(cosas[0][3][2:5:])\r\n",
        "\r\n",
        "print(cosas[1][1][-2:-5:-1])"
      ],
      "execution_count": 74,
      "outputs": [
        {
          "output_type": "stream",
          "text": [
            "['sandia', 'manzana', 'mango']\n",
            "[['Windows', 'Mac OS', 'Linux', 'Android'], ['Ford', 'Mazda', 'Honda']]\n",
            "['Ford', 'Mazda', 'Honda']\n",
            "Linux\n",
            "dro\n",
            "dza\n"
          ],
          "name": "stdout"
        }
      ]
    }
  ]
}