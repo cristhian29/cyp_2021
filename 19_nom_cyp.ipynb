{
  "nbformat": 4,
  "nbformat_minor": 0,
  "metadata": {
    "colab": {
      "name": "19_nom_cyp.ipynb",
      "provenance": [],
      "authorship_tag": "ABX9TyOQCaXEixbiEtw90TM6NmBZ",
      "include_colab_link": true
    },
    "kernelspec": {
      "name": "python3",
      "display_name": "Python 3"
    }
  },
  "cells": [
    {
      "cell_type": "markdown",
      "metadata": {
        "id": "view-in-github",
        "colab_type": "text"
      },
      "source": [
        "<a href=\"https://colab.research.google.com/github/cristhian29/cyp_2021/blob/main/19_nom_cyp.ipynb\" target=\"_parent\"><img src=\"https://colab.research.google.com/assets/colab-badge.svg\" alt=\"Open In Colab\"/></a>"
      ]
    },
    {
      "cell_type": "code",
      "metadata": {
        "colab": {
          "base_uri": "https://localhost:8080/"
        },
        "id": "jBoodTX9kY5o",
        "outputId": "21339e84-5494-4b42-fefb-616987636be1"
      },
      "source": [
        "#Ejemplo 1.5\n",
        "\n",
        "I = 0\n",
        "I = I + 1\n",
        "I = I + 1\n",
        "print( f\" I = { I }\")\n",
        "j = 5 ** 2 / 3\n",
        "print(f\"j = { j }\")"
      ],
      "execution_count": null,
      "outputs": [
        {
          "output_type": "stream",
          "text": [
            " I = 2\n",
            "j = 8.333333333333334\n"
          ],
          "name": "stdout"
        }
      ]
    },
    {
      "cell_type": "code",
      "metadata": {
        "colab": {
          "base_uri": "https://localhost:8080/"
        },
        "id": "MDjMntRfnOav",
        "outputId": "fe16d137-45ff-45b7-9d0c-bd1c20bba00f"
      },
      "source": [
        "#Ejemplo 1.6\n",
        "\n",
        "A=0\n",
        "B=0\n",
        "C=0\n",
        "D=0\n",
        "\n",
        "A = int (input(\"dame un valor entero: \"))\n",
        "B = int (input(\"dame un valor entero: \"))\n",
        "C = int (input(\"dame un valor entero: \"))\n",
        "D = int (input(\"dame un valor entero: \"))\n",
        "\n",
        "print(A)\n",
        "print(B)\n",
        "print(C)\n",
        "print(D)"
      ],
      "execution_count": null,
      "outputs": [
        {
          "output_type": "stream",
          "text": [
            "dame un valor entero: 10\n",
            "dame un valor entero: 20\n",
            "dame un valor entero: 30\n",
            "dame un valor entero: 40\n",
            "10\n",
            "20\n",
            "30\n",
            "40\n"
          ],
          "name": "stdout"
        }
      ]
    },
    {
      "cell_type": "code",
      "metadata": {
        "colab": {
          "base_uri": "https://localhost:8080/"
        },
        "id": "I-lZS15dorq9",
        "outputId": "7df84424-5e8c-43ba-ac02-2f85de0f581b"
      },
      "source": [
        "# Ejemplo 1.7\n",
        "a = 0\n",
        "b = 0\n",
        "res = 0\n",
        "\n",
        "a = int (input(\"dame un valor entero: \"))\n",
        "b = int (input(\"dame un valor entero: \"))\n",
        "\n",
        "res = (a + b)** 2 / 3\n",
        "print(res)\n"
      ],
      "execution_count": null,
      "outputs": [
        {
          "output_type": "stream",
          "text": [
            "dame un valor entero: 5\n",
            "dame un valor entero: 6\n",
            "40.333333333333336\n"
          ],
          "name": "stdout"
        }
      ]
    },
    {
      "cell_type": "code",
      "metadata": {
        "colab": {
          "base_uri": "https://localhost:8080/"
        },
        "id": "HQcfk2K3uNiy",
        "outputId": "b8c86484-37e7-40f7-e673-57d44934e782"
      },
      "source": [
        "# Ejemplo 1.8\n",
        "mat = 0\n",
        "cal1 = 0\n",
        "cal2 = 0\n",
        "cal3 = 0\n",
        "cal4 = 0\n",
        "cal5 = 0\n",
        "pro = 0\n",
        "\n",
        "mat = int (input(\"dame tu matricula: \"))\n",
        "cal1 = float (input(\"dame cal1: \"))\n",
        "cal2 = float (input(\"dame cal2: \"))\n",
        "cal3 = float (input(\"dame cal3: \"))\n",
        "cal4 = float (input(\"dame cal4: \"))\n",
        "cal5 = float (input(\"dame cal5: \"))\n",
        "\n",
        "pro = ( cal1 + cal2 + cal3 + cal4 + cal5 )/5\n",
        "print( f\"Matricula: {mat}\" , f\"Promedio: {pro}\" )"
      ],
      "execution_count": 27,
      "outputs": [
        {
          "output_type": "stream",
          "text": [
            "dame tu matricula: 16500\n",
            "dame cal1: 8\n",
            "dame cal2: 8.5\n",
            "dame cal3: 9\n",
            "dame cal4: 7\n",
            "dame cal5: 6\n",
            "Matricula: 16500 Promedio: 7.7\n"
          ],
          "name": "stdout"
        }
      ]
    },
    {
      "cell_type": "code",
      "metadata": {
        "colab": {
          "base_uri": "https://localhost:8080/"
        },
        "id": "_2ePfBsAy0-v",
        "outputId": "bbb3cc91-5a43-435a-89ae-b892227184a0"
      },
      "source": [
        "#Ejemplo 1.9\n",
        "\n",
        "num = 0\n",
        "cua = 0\n",
        "cub = 0\n",
        "\n",
        "num = int (input(\"Numero: \"))\n",
        "cua = num**2\n",
        "cub = num**3\n",
        "\n",
        "print( f\"El cuadrado de 7 es: {cua}\", f\"y el cubo es: {cub}\" ) "
      ],
      "execution_count": 25,
      "outputs": [
        {
          "output_type": "stream",
          "text": [
            "Numero: 7\n",
            "El cuadrado de 7 es: 49 y el cubo es: 343\n"
          ],
          "name": "stdout"
        }
      ]
    },
    {
      "cell_type": "code",
      "metadata": {
        "colab": {
          "base_uri": "https://localhost:8080/"
        },
        "id": "R0ZeGR261yhY",
        "outputId": "3496b789-6927-4130-af28-1c635b6575a5"
      },
      "source": [
        "#ejemplo 1.10\n",
        "base = 0\n",
        "altura = 0\n",
        "area = 0\n",
        "per = 0\n",
        "\n",
        "base = float (input(\"Base \"))\n",
        "altura = float (input(\"Altura \"))\n",
        "area = ( base * altura )\n",
        "per = ( 2 * base ) + ( 2 * altura )\n",
        "\n",
        "print(f\"El área es {area}\")\n",
        "print(f\"El perímetro es {per}\")\n"
      ],
      "execution_count": 21,
      "outputs": [
        {
          "output_type": "stream",
          "text": [
            "Base 8.5\n",
            "Altura 6.2\n",
            "El área es 52.7\n",
            "El perímetro es 29.4\n"
          ],
          "name": "stdout"
        }
      ]
    }
  ]
}