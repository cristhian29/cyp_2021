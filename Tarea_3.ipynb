{
  "nbformat": 4,
  "nbformat_minor": 0,
  "metadata": {
    "colab": {
      "name": "Tarea_3.ipynb",
      "provenance": [],
      "collapsed_sections": [],
      "authorship_tag": "ABX9TyP898nxatQ3qH8+jScE1f1C",
      "include_colab_link": true
    },
    "kernelspec": {
      "name": "python3",
      "display_name": "Python 3"
    }
  },
  "cells": [
    {
      "cell_type": "markdown",
      "metadata": {
        "id": "view-in-github",
        "colab_type": "text"
      },
      "source": [
        "<a href=\"https://colab.research.google.com/github/cristhian29/cyp_2021/blob/main/Tarea_3.ipynb\" target=\"_parent\"><img src=\"https://colab.research.google.com/assets/colab-badge.svg\" alt=\"Open In Colab\"/></a>"
      ]
    },
    {
      "cell_type": "code",
      "metadata": {
        "id": "eQDysnr_1IYA",
        "colab": {
          "base_uri": "https://localhost:8080/"
        },
        "outputId": "f2d61fde-57ba-433b-f515-353fba5c896b"
      },
      "source": [
        "#Problema 1.1\n",
        "\n",
        "PREPRO = 0\n",
        "PAGO = 0\n",
        "DEVO = 0\n",
        "\n",
        "PREPRO = float (input(\"Precio del producto: \"))\n",
        "PAGO = float (input(\"Pago: \"))\n",
        "DEVO = PAGO - PREPRO\n",
        "\n",
        "print(f\"Cambio del cliente {DEVO} \")\n"
      ],
      "execution_count": 4,
      "outputs": [
        {
          "output_type": "stream",
          "text": [
            "Precio del producto: 49.20\n",
            "Pago: 100\n",
            "Cambio del cliente 50.8 \n"
          ],
          "name": "stdout"
        }
      ]
    },
    {
      "cell_type": "code",
      "metadata": {
        "colab": {
          "base_uri": "https://localhost:8080/"
        },
        "id": "36obyAt36BA5",
        "outputId": "9ac102ff-6327-4ba2-d8b7-a0daef576bc1"
      },
      "source": [
        "#Problema 1.2\n",
        "\n",
        "BASE = 0\n",
        "ALTU = 0\n",
        "SUP = 0\n",
        "\n",
        "BASE = float (input(\"Base del triangulo: \"))\n",
        "ALTU = float (input(\"Altura del triangulo: \"))\n",
        "SUP = ( BASE * ALTU ) / 2\n",
        "\n",
        "print(f\"Las superficie del triangulo es de: {SUP} \")\n"
      ],
      "execution_count": 6,
      "outputs": [
        {
          "output_type": "stream",
          "text": [
            "Base del triangulo: 8.50\n",
            "Altura del triangulo: 7.20\n",
            "Las superficie del triangulo es de: 30.6 \n"
          ],
          "name": "stdout"
        }
      ]
    },
    {
      "cell_type": "code",
      "metadata": {
        "colab": {
          "base_uri": "https://localhost:8080/"
        },
        "id": "cuRGsMlC-Z3A",
        "outputId": "da0d4eda-1f1d-4124-f280-83ade4cce502"
      },
      "source": [
        "#Problema 1.3\n",
        "\n",
        "NOM = 0\n",
        "PES = 0\n",
        "LON = 0\n",
        "PESKIL = 0\n",
        "LONMET = 0\n",
        "\n",
        "NOM = input(\"Nombre del dinosaurio: \")\n",
        "PES = float (input(\"Peso en toneladas: \"))\n",
        "LON = float (input(\"Longitud en pies: \"))\n",
        "\n",
        "PESKIL = PES * 1000\n",
        "LONMET = LON * 0.3047\n",
        "\n",
        "print(f\"El nombre del dinosaurio es: {NOM} \")\n",
        "print(f\"El peso del dinosaurio es de: {PESKIL} kilogramos\")\n",
        "print(f\"La longitud del dinosaurio es de: {LONMET} metros\")"
      ],
      "execution_count": 13,
      "outputs": [
        {
          "output_type": "stream",
          "text": [
            "Nombre del dinosaurio: PLATEOSAURUS\n",
            "Peso en toneladas: 5\n",
            "Longitud en pies: 30\n",
            "El nombre del dinosaurio es: PLATEOSAURUS \n",
            "El peso del dinosaurio es de: 5000.0 kilogramos\n",
            "La longitud del dinosaurio es de: 9.141 metros\n"
          ],
          "name": "stdout"
        }
      ]
    },
    {
      "cell_type": "code",
      "metadata": {
        "colab": {
          "base_uri": "https://localhost:8080/"
        },
        "id": "A5V2yVMgHvXh",
        "outputId": "87c0391a-021b-47e0-9265-1672291243d0"
      },
      "source": [
        "#Problema 1.4\n",
        "\n",
        "GAL = 0\n",
        "TOTAL = 0\n",
        "\n",
        "GAL = float (input(\"Combustible en galones: \"))\n",
        "TOTAL = ( GAL * 3.785) * 8.20\n",
        "\n",
        "print(f\"Total a pagar: {TOTAL}\")\n"
      ],
      "execution_count": 16,
      "outputs": [
        {
          "output_type": "stream",
          "text": [
            "Combustible en galones: 19.90\n",
            "Total a pagar: 617.6363\n"
          ],
          "name": "stdout"
        }
      ]
    },
    {
      "cell_type": "code",
      "metadata": {
        "colab": {
          "base_uri": "https://localhost:8080/"
        },
        "id": "AULpStm2K-B3",
        "outputId": "1bf70ad6-10c5-40f1-bdcf-17890afa8aeb"
      },
      "source": [
        "#Problema 1.5\n",
        "\n",
        "RADIO = 0\n",
        "ALTU = 0\n",
        "VOL = 0\n",
        "ARE = 0\n",
        "PI = 3.141592\n",
        "\n",
        "RADIO = float (input(\"Radio del cilindro: \"))\n",
        "ALTU = float (input(\"Altura del cilindro: \"))\n",
        "VOL = PI * ( RADIO ** 2 ) * ALTU\n",
        "ARE = 2 * PI * RADIO * ALTU\n",
        "\n",
        "print(f\"Volumen del cilindro: {round( VOL , 3 )}\")\n",
        "print(f\"Area del cilindro: {round( ARE , 3 )}\")"
      ],
      "execution_count": 18,
      "outputs": [
        {
          "output_type": "stream",
          "text": [
            "Radio del cilindro: 45.22\n",
            "Altura del cilindro: 11.60\n",
            "Volumen del cilindro: 74519.321\n",
            "Area del cilindro: 3295.857\n"
          ],
          "name": "stdout"
        }
      ]
    },
    {
      "cell_type": "code",
      "metadata": {
        "colab": {
          "base_uri": "https://localhost:8080/"
        },
        "id": "uEeOYlzfQKnZ",
        "outputId": "6252f70d-28b7-4ac7-c72a-0abe5ec5a726"
      },
      "source": [
        "#Problema 1.6\n",
        "\n",
        "DIAS = 0\n",
        "SEG = 0\n",
        "\n",
        "DIAS = int (input(\"Dias: \"))\n",
        "SEG = DIAS * 24 * 60 * 60\n",
        "\n",
        "print(f\"En {DIAS} dias,\"f\" hay {SEG} segundos\")\n"
      ],
      "execution_count": 22,
      "outputs": [
        {
          "output_type": "stream",
          "text": [
            "Dias: 116\n",
            "En 116 dias, hay 10022400 segundos\n"
          ],
          "name": "stdout"
        }
      ]
    }
  ]
}