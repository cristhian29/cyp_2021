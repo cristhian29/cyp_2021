{
  "nbformat": 4,
  "nbformat_minor": 0,
  "metadata": {
    "colab": {
      "name": "Tarea_4.ipynb",
      "provenance": [],
      "authorship_tag": "ABX9TyPaaTIAhEwT7tH0kO2YO0S+",
      "include_colab_link": true
    },
    "kernelspec": {
      "name": "python3",
      "display_name": "Python 3"
    }
  },
  "cells": [
    {
      "cell_type": "markdown",
      "metadata": {
        "id": "view-in-github",
        "colab_type": "text"
      },
      "source": [
        "<a href=\"https://colab.research.google.com/github/cristhian29/cyp_2021/blob/main/Tarea_4.ipynb\" target=\"_parent\"><img src=\"https://colab.research.google.com/assets/colab-badge.svg\" alt=\"Open In Colab\"/></a>"
      ]
    },
    {
      "cell_type": "code",
      "metadata": {
        "colab": {
          "base_uri": "https://localhost:8080/"
        },
        "id": "NB5RsFaiNlCi",
        "outputId": "fc9a1617-900f-4ebb-8b14-bf1b0f9bf05a"
      },
      "source": [
        "#Ejecicio 2.4\n",
        "\n",
        "print(\"Ingrese el sueldo: \")\n",
        "SUE = input()\n",
        "SUE = float ( SUE )\n",
        "\n",
        "if ( SUE < 1000):\n",
        "  NSUE = SUE * 1.15\n",
        "  print(\"Nuevo sueldo: $\", round( NSUE , 2 ))\n",
        "\n",
        "else:\n",
        "  NSUE = SUE * 1.12\n",
        "  print(\"Nuevo sueldo: $\", round( NSUE , 2 ))\n"
      ],
      "execution_count": 10,
      "outputs": [
        {
          "output_type": "stream",
          "text": [
            "Ingrese el sueldo: \n",
            "840.50\n",
            "Nuevo sueldo: $ 966.57\n"
          ],
          "name": "stdout"
        }
      ]
    },
    {
      "cell_type": "code",
      "metadata": {
        "colab": {
          "base_uri": "https://localhost:8080/"
        },
        "id": "0JT9O6g-RdmV",
        "outputId": "bbeefaf9-7503-4176-d990-9a463c183616"
      },
      "source": [
        "#Ejercicio 2.8\n",
        "\n",
        "print(\"Ingrese la categoria del trabajador: \")\n",
        "CATE = int (input())\n",
        "print(\"Ingrese el sueldo del trabajador: \")\n",
        "SUE = float (input())\n",
        "\n",
        "if ( CATE == 1 ):\n",
        "  NSUE = SUE * 1.15\n",
        "  print(\"Categoria: \",CATE)\n",
        "  print(\"Nuevo Sueldo: \",NSUE)\n",
        "\n",
        "elif ( CATE == 2 ):\n",
        "  NSUE = SUE * 1.10\n",
        "  print(\"Categoria: \",CATE)\n",
        "  print(\"Nuevo Sueldo: \",NSUE)\n",
        "\n",
        "elif ( CATE == 3 ):\n",
        "  NSUE = SUE * 1.08\n",
        "  print(\"Categoria: \",CATE)\n",
        "  print(\"Nuevo Sueldo: \",NSUE)\n",
        "\n",
        "elif ( CATE == 4 ):\n",
        "  NSUE = SUE * 1.07\n",
        "  print(\"Categoria: \",CATE)\n",
        "  print(\"Nuevo Sueldo: \",NSUE)\n",
        "\n"
      ],
      "execution_count": 14,
      "outputs": [
        {
          "output_type": "stream",
          "text": [
            "Ingrese la categoria del trabajador: \n",
            "4\n",
            "Ingrese el sueldo del trabajador: \n",
            "6200\n",
            "Categoria:  4\n",
            "Nuevo Sueldo:  6634.0\n"
          ],
          "name": "stdout"
        }
      ]
    }
  ]
}