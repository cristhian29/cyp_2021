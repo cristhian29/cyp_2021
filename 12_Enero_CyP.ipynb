{
  "nbformat": 4,
  "nbformat_minor": 0,
  "metadata": {
    "colab": {
      "name": "12_Enero_CyP.ipynb",
      "provenance": [],
      "authorship_tag": "ABX9TyP7ZZ2IJs/Tt4tZA9mEqx/1",
      "include_colab_link": true
    },
    "kernelspec": {
      "name": "python3",
      "display_name": "Python 3"
    }
  },
  "cells": [
    {
      "cell_type": "markdown",
      "metadata": {
        "id": "view-in-github",
        "colab_type": "text"
      },
      "source": [
        "<a href=\"https://colab.research.google.com/github/cristhian29/cyp_2021/blob/main/12_Enero_CyP.ipynb\" target=\"_parent\"><img src=\"https://colab.research.google.com/assets/colab-badge.svg\" alt=\"Open In Colab\"/></a>"
      ]
    },
    {
      "cell_type": "markdown",
      "metadata": {
        "id": "v2EcSvDUr7no"
      },
      "source": [
        "# Introduccion a Python\r\n",
        "- Creado en los 90´s por Guido Van R.\r\n",
        "- En el 2000 Pyhon mejora y tiene nuevas caracteristicas\r\n",
        "- En el 2020 deja de ser la version oficial python 2.7 y solo se le dara soporte a python 3 en adelante\r\n",
        "# Caracterisricas de Python\r\n",
        "1. lenguaje de proposito general.\r\n",
        "2. interpretado y no-compilado.\r\n",
        "3. tipos de datos dinamicos. (numericos, cadena, bool, entre otros).\r\n",
        "4. multiplataforma.\r\n",
        "5. lenguaje multi-paradigma. (inperativa, POO y funcional).\r\n",
        "6. codigo estructurado por identacion.\r\n",
        "\r\n",
        "```\r\n",
        "if a > 10:\r\n",
        "  print(\"Hola\")\r\n",
        "print(\"Hola dos\")\r\n",
        "```"
      ]
    },
    {
      "cell_type": "code",
      "metadata": {
        "colab": {
          "base_uri": "https://localhost:8080/"
        },
        "id": "GxTSQhfGuoUe",
        "outputId": "4451ffa2-dde0-439b-f0a4-dbe38b4db817"
      },
      "source": [
        "#primer programa de python 3\r\n",
        "\r\n",
        "nombre = \"cristhian\"\r\n",
        "edad = 18\r\n",
        "print(\"Hola\", nombre, edad)\r\n"
      ],
      "execution_count": 3,
      "outputs": [
        {
          "output_type": "stream",
          "text": [
            "Hola cristhian 18\n"
          ],
          "name": "stdout"
        }
      ]
    },
    {
      "cell_type": "markdown",
      "metadata": {
        "id": "PiWfUvO2vqcx"
      },
      "source": [
        "# La funcion print()\r\n",
        "\r\n",
        "Es una de las funciones mas empleadas en programacion y busca enviar datos a la salida estandar(monitor)\r\n",
        "\r\n",
        "### Formas de uso\r\n",
        "1. con comas\r\n",
        "2. con signos +\r\n",
        "3. .format()\r\n",
        "4. el operador f\"\"\r\n",
        "\r\n",
        "#### Con comas\r\n",
        "concatena los argumentos enviados a print() y les agrega un espacio\r\n",
        "#### con signos +\r\n",
        "concatena los valores sin espacio y sin hacer conversiones de tipos\r\n"
      ]
    },
    {
      "cell_type": "code",
      "metadata": {
        "colab": {
          "base_uri": "https://localhost:8080/"
        },
        "id": "tr-s1sqVyMRv",
        "outputId": "d5fe74fb-dd98-4a98-ae8f-9719b907e291"
      },
      "source": [
        "print(\"Hola\", nombre,edad)\r\n",
        "print(\"Hola \"+nombre+\" \"+str (edad))\r\n",
        "#Nombre: Cristhian con una edad de: 18 años\r\n",
        "print(\"Nombre:\" , nombre , \"con una edad de:\", edad ,\"años\")\r\n",
        "print(\"Nombre: \" + nombre + \" con una edad de: \"+ str ( edad ) +\" años\")\r\n",
        "#Con format\r\n",
        "print(\"Nombre: {} con una edad de: {} años\".format(nombre,edad))\r\n",
        "#Con el operador f\r\n",
        "print(f\"Nombre: {nombre} con una edad de: {edad} años\")"
      ],
      "execution_count": 19,
      "outputs": [
        {
          "output_type": "stream",
          "text": [
            "Hola cristhian 18\n",
            "Hola cristhian 18\n",
            "Nombre: cristhian con una edad de: 18 años\n",
            "Nombre: cristhian con una edad de: 18 años\n",
            "Nombre: cristhian con una edad de: 18 años\n",
            "Nombre: cristhian con una edad de: 18 años\n"
          ],
          "name": "stdout"
        }
      ]
    },
    {
      "cell_type": "markdown",
      "metadata": {
        "id": "g0r6YunH3H0j"
      },
      "source": [
        "# Funcion print() y los caracteres de escape\r\n",
        "- \\n salto de linea\r\n",
        "-\\t tabulador"
      ]
    },
    {
      "cell_type": "code",
      "metadata": {
        "colab": {
          "base_uri": "https://localhost:8080/"
        },
        "id": "YI0snVI_3xo5",
        "outputId": "5e1b14f0-8a65-4856-fa9b-c50e80c962e0"
      },
      "source": [
        "print('\"')\r\n",
        "print(\"\\\"\")\r\n",
        "print(\"Nombre: cristhian\\n\\t con una edad de:\\\\ 18 años\")\r\n",
        "#Caracteres unicode\r\n",
        "print(\"Hola \\u\")"
      ],
      "execution_count": 24,
      "outputs": [
        {
          "output_type": "stream",
          "text": [
            "\"\n",
            "\"\n",
            "Nombre: cristhian\n",
            "\t con una edad de:\\ 18 años\n",
            "Hola 晦\n"
          ],
          "name": "stdout"
        }
      ]
    }
  ]
}