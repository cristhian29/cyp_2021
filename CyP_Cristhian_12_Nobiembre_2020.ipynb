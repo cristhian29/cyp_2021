{
  "nbformat": 4,
  "nbformat_minor": 0,
  "metadata": {
    "colab": {
      "name": "CyP Cristhian 12/Nobiembre/2020.ipynb",
      "provenance": [],
      "collapsed_sections": [],
      "authorship_tag": "ABX9TyNd7GF43G3wSYt2aFkT/5YH",
      "include_colab_link": true
    },
    "kernelspec": {
      "name": "python3",
      "display_name": "Python 3"
    }
  },
  "cells": [
    {
      "cell_type": "markdown",
      "metadata": {
        "id": "view-in-github",
        "colab_type": "text"
      },
      "source": [
        "<a href=\"https://colab.research.google.com/github/cristhian29/cyp_2021/blob/main/CyP_Cristhian_12_Nobiembre_2020.ipynb\" target=\"_parent\"><img src=\"https://colab.research.google.com/assets/colab-badge.svg\" alt=\"Open In Colab\"/></a>"
      ]
    },
    {
      "cell_type": "code",
      "metadata": {
        "id": "_dSaAD_tcB0C",
        "outputId": "441504d4-72bf-49a0-cc50-78ce879efadd",
        "colab": {
          "base_uri": "https://localhost:8080/"
        }
      },
      "source": [
        "#Ejemplo1\n",
        "\n",
        "numero=int (input(\"dame un nuero \"))\n",
        "if numero>0:\n",
        "  print(\"el numero es positivo \")\n",
        "\n",
        "print(\"fin del pregrama \")"
      ],
      "execution_count": 1,
      "outputs": [
        {
          "output_type": "stream",
          "text": [
            "dame un nuero 5\n",
            "el numero es positivo \n",
            "fin del pregrama \n"
          ],
          "name": "stdout"
        }
      ]
    },
    {
      "cell_type": "code",
      "metadata": {
        "id": "_-bWOMRUfDAm",
        "outputId": "6e032929-2465-474a-cc66-8d44ad3415da",
        "colab": {
          "base_uri": "https://localhost:8080/"
        }
      },
      "source": [
        "#Ejemplo2\n",
        "\n",
        "numero=int (input(\"Digite un numero \"))\n",
        "if numero >0:\n",
        "  print(\"El numero es positivo\")\n",
        "else:\n",
        "  print(\"El numero es negativo\")\n"
      ],
      "execution_count": 4,
      "outputs": [
        {
          "output_type": "stream",
          "text": [
            "Digite un numero -9\n",
            "El numero es negativo\n"
          ],
          "name": "stdout"
        }
      ]
    },
    {
      "cell_type": "code",
      "metadata": {
        "id": "XQtqjqHVhU_N",
        "outputId": "fd9196cf-cb5e-46a8-d2f1-bc75edb8e32a",
        "colab": {
          "base_uri": "https://localhost:8080/"
        }
      },
      "source": [
        "#Ejempllo3\n",
        "\n",
        "numero=int (input(\"Digite un numero \"))\n",
        "if numero >0:\n",
        "  print(\"El numero es positivo\")\n",
        "elif numero==0:\n",
        "  print(\"El numero es cero\")\n",
        "else:\n",
        "  print(\"El numero es negativo\")\n",
        "print(\"Fin del Programa\")"
      ],
      "execution_count": 9,
      "outputs": [
        {
          "output_type": "stream",
          "text": [
            "Digite un numero -5\n",
            "El numero es negativo\n",
            "Fin del Programa\n"
          ],
          "name": "stdout"
        }
      ]
    }
  ]
}