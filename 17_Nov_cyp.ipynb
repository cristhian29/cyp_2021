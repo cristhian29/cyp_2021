{
  "nbformat": 4,
  "nbformat_minor": 0,
  "metadata": {
    "colab": {
      "name": "17_Nov_cyp.ipynb",
      "provenance": [],
      "authorship_tag": "ABX9TyNDF+VoDBfxN65GXwP7yl46",
      "include_colab_link": true
    },
    "kernelspec": {
      "name": "python3",
      "display_name": "Python 3"
    }
  },
  "cells": [
    {
      "cell_type": "markdown",
      "metadata": {
        "id": "view-in-github",
        "colab_type": "text"
      },
      "source": [
        "<a href=\"https://colab.research.google.com/github/cristhian29/cyp_2021/blob/main/17_Nov_cyp.ipynb\" target=\"_parent\"><img src=\"https://colab.research.google.com/assets/colab-badge.svg\" alt=\"Open In Colab\"/></a>"
      ]
    },
    {
      "cell_type": "code",
      "metadata": {
        "colab": {
          "base_uri": "https://localhost:8080/"
        },
        "id": "g9xlIqgbSJGi",
        "outputId": "6d23b65b-612e-46c3-e821-2e0c6d268222"
      },
      "source": [
        "edad = 15\n",
        "estatura = 1.70\n",
        "a = 10\n",
        "b = 3\n",
        "\n",
        "c = 2 ** b + 2\n",
        "print( c )\n",
        "\n",
        "e = estatura * 2.0\n",
        "print( \"e =\",e )\n",
        "\n",
        "f = a / b # en python se hace el calculo exacto\n",
        "print( \"f =\",f ) #3.333333\n",
        "# tambien podemos forzar al calculo de enteros\n",
        "\n",
        "g = a // b\n",
        "print( \"g =\", g)\n",
        "\n",
        "h = a % b\n",
        "print(\"h =\",h)\n",
        "\n",
        "num = 11\n",
        "print(\"Es par la variable num ?\", (num % 2) == 0)"
      ],
      "execution_count": 16,
      "outputs": [
        {
          "output_type": "stream",
          "text": [
            "10\n",
            "e = 3.4\n",
            "f = 3.3333333333333335\n",
            "g = 3\n",
            "h = 1\n",
            "Es par la variable num ? False\n"
          ],
          "name": "stdout"
        }
      ]
    },
    {
      "cell_type": "code",
      "metadata": {
        "colab": {
          "base_uri": "https://localhost:8080/"
        },
        "id": "CD1KiSMDW3sK",
        "outputId": "3528426a-902a-486a-9f0a-2e44432ef604"
      },
      "source": [
        "ecuacion = 9 + 7 * 8 - 36 / 5\n",
        "print(ecuacion)\n",
        "\n",
        "ecuacion = (9 + 7) * 8 - 36 / 5\n",
        "print(ecuacion)\n",
        "\n",
        "ecuacion = 9 + 7 * (8 - 36) / 5\n",
        "print(ecuacion)"
      ],
      "execution_count": 21,
      "outputs": [
        {
          "output_type": "stream",
          "text": [
            "57.8\n",
            "120.8\n",
            "-30.200000000000003\n"
          ],
          "name": "stdout"
        }
      ]
    },
    {
      "cell_type": "code",
      "metadata": {
        "colab": {
          "base_uri": "https://localhost:8080/"
        },
        "id": "gB3DD2vhb3vA",
        "outputId": "fe38d3cd-2b88-4d50-d470-6f7696637564"
      },
      "source": [
        "#operadores logicos\n",
        "x = 5\n",
        "y = 4\n",
        "\n",
        "valor = (x == y) #son igules? --> Falso\n",
        "print( valor )\n",
        "\n",
        "valor = (x != y) #son diferentes? --> Verdadero\n",
        "print( valor )\n",
        "\n",
        "valor = ( x < y) # x es Menor que y --> Falso\n",
        "print( valor )\n",
        "\n",
        "valor = (x > y )# x es Mayor que y --> Verdadero\n",
        "print( valor)\n",
        "\n",
        "valor = (x <= y )# x es Menor o igual que y --> Falso\n",
        "print( valor)\n",
        "\n",
        "valor = (x >= y )# x es Mayor o igual que y --> Verdadero\n",
        "print( valor)"
      ],
      "execution_count": 30,
      "outputs": [
        {
          "output_type": "stream",
          "text": [
            "False\n",
            "True\n",
            "False\n",
            "True\n",
            "False\n",
            "True\n"
          ],
          "name": "stdout"
        }
      ]
    },
    {
      "cell_type": "code",
      "metadata": {
        "colab": {
          "base_uri": "https://localhost:8080/"
        },
        "id": "YwcBMNJwfbgG",
        "outputId": "4232e495-ba96-4795-ee57-d0c7fab9ab20"
      },
      "source": [
        "costo_chetos = 7.0\n",
        "tienda_abierta = True \n",
        "capital_en_bolsa = 10.0\n",
        "\n",
        "se_compra = (costo_chetos < capital_en_bolsa) and (tienda_abierta == True)\n",
        "print( se_compra )\n",
        "\n"
      ],
      "execution_count": 35,
      "outputs": [
        {
          "output_type": "stream",
          "text": [
            "True\n"
          ],
          "name": "stdout"
        }
      ]
    }
  ]
}