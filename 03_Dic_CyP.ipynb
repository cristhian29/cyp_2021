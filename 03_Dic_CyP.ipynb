{
  "nbformat": 4,
  "nbformat_minor": 0,
  "metadata": {
    "colab": {
      "name": "03_Dic_CyP.ipynb",
      "provenance": [],
      "authorship_tag": "ABX9TyOx/biiJsbTa4eIETj4Tmfs",
      "include_colab_link": true
    },
    "kernelspec": {
      "name": "python3",
      "display_name": "Python 3"
    }
  },
  "cells": [
    {
      "cell_type": "markdown",
      "metadata": {
        "id": "view-in-github",
        "colab_type": "text"
      },
      "source": [
        "<a href=\"https://colab.research.google.com/github/cristhian29/cyp_2021/blob/main/03_Dic_CyP.ipynb\" target=\"_parent\"><img src=\"https://colab.research.google.com/assets/colab-badge.svg\" alt=\"Open In Colab\"/></a>"
      ]
    },
    {
      "cell_type": "code",
      "metadata": {
        "colab": {
          "base_uri": "https://localhost:8080/"
        },
        "id": "WnHSfZOXmmhb",
        "outputId": "bfaacbea-9761-47ad-993d-2aae13c80658"
      },
      "source": [
        "#Ejemplo1\n",
        "\n",
        "for i in [1,2,3,5]:\n",
        "  print(f\"El elemnto: {i}\")"
      ],
      "execution_count": null,
      "outputs": [
        {
          "output_type": "stream",
          "text": [
            "El elemnto: 1\n",
            "El elemnto: 2\n",
            "El elemnto: 3\n",
            "El elemnto: 5\n"
          ],
          "name": "stdout"
        }
      ]
    },
    {
      "cell_type": "code",
      "metadata": {
        "colab": {
          "base_uri": "https://localhost:8080/"
        },
        "id": "ZMJdJAIsnGi9",
        "outputId": "bce2d4fa-f176-46fb-c8c0-146c99faad2d"
      },
      "source": [
        "\n",
        "coleccion = [1,2,3,4,5]\n",
        "for i in coleccion:\n",
        "  print(f\"El elemnto: {i}\")\n",
        "\n"
      ],
      "execution_count": null,
      "outputs": [
        {
          "output_type": "stream",
          "text": [
            "El elemnto: 1\n",
            "El elemnto: 2\n",
            "El elemnto: 3\n",
            "El elemnto: 4\n",
            "El elemnto: 5\n"
          ],
          "name": "stdout"
        }
      ]
    },
    {
      "cell_type": "code",
      "metadata": {
        "colab": {
          "base_uri": "https://localhost:8080/"
        },
        "id": "nesTTdwBnsxh",
        "outputId": "e23ee32b-87f7-4f94-e35a-bcafdf834afb"
      },
      "source": [
        "#Ejemplo 2\n",
        "\n",
        "coleccion = {\"Mario\":20, \"Mariana\":19, \"Yessica\":14, \"Luis\":18}\n",
        "for i in coleccion:\n",
        "  print(f\"Elemento: {i}\")"
      ],
      "execution_count": null,
      "outputs": [
        {
          "output_type": "stream",
          "text": [
            "Elemento: Mario\n",
            "Elemento: Mariana\n",
            "Elemento: Yessica\n",
            "Elemento: Luis\n"
          ],
          "name": "stdout"
        }
      ]
    },
    {
      "cell_type": "code",
      "metadata": {
        "colab": {
          "base_uri": "https://localhost:8080/"
        },
        "id": "JWbudLijosyE",
        "outputId": "7d2d6866-ce28-4fd4-d056-b2bfcc95e881"
      },
      "source": [
        "coleccion = {\"Mario\":20, \"Mariana\":19, \"Yessica\":14, \"Luis\":18}\n",
        "for i in coleccion:\n",
        "  print(f\"{coleccion [i]}\")\n"
      ],
      "execution_count": null,
      "outputs": [
        {
          "output_type": "stream",
          "text": [
            "20\n",
            "19\n",
            "14\n",
            "18\n"
          ],
          "name": "stdout"
        }
      ]
    },
    {
      "cell_type": "code",
      "metadata": {
        "colab": {
          "base_uri": "https://localhost:8080/"
        },
        "id": "IOkWE3dKpp38",
        "outputId": "31049718-0a93-4eca-ccbb-2972d02d765e"
      },
      "source": [
        "coleccion = {\"Mario\":20, \"Mariana\":19, \"Yessica\":14, \"Luis\":18}\n",
        "for i in coleccion:\n",
        "  print(f\"{i}->{coleccion[i]}\")\n"
      ],
      "execution_count": null,
      "outputs": [
        {
          "output_type": "stream",
          "text": [
            "Mario->20\n",
            "Mariana->19\n",
            "Yessica->14\n",
            "Luis->18\n"
          ],
          "name": "stdout"
        }
      ]
    },
    {
      "cell_type": "code",
      "metadata": {
        "colab": {
          "base_uri": "https://localhost:8080/"
        },
        "id": "0ULKfvw8rbxM",
        "outputId": "1aa2f2eb-32d9-420e-b4f3-70176ae49962"
      },
      "source": [
        "coleccion = {\"Mario\":20, \"Mariana\":19, \"Yessica\":14, \"Luis\":18}\n",
        "\n",
        "for clave, valor in coleccion.items():\n",
        "  print(f\"{clave} -> {valor}\")"
      ],
      "execution_count": null,
      "outputs": [
        {
          "output_type": "stream",
          "text": [
            "Mario -> 20\n",
            "Mariana -> 19\n",
            "Yessica -> 14\n",
            "Luis -> 18\n"
          ],
          "name": "stdout"
        }
      ]
    },
    {
      "cell_type": "code",
      "metadata": {
        "colab": {
          "base_uri": "https://localhost:8080/"
        },
        "id": "6u3i_t5wsF7G",
        "outputId": "ba1b63be-6146-4eeb-e574-f9adb218c172"
      },
      "source": [
        "#Ejemplo3\n",
        "\n",
        "email = False\n",
        "for i in \"cristhianalejo97@aragon.unam.mx\":\n",
        "  if (i == \"@\"):\n",
        "    email = True\n",
        "\n",
        "if email == True:\n",
        "  print(\"El email es correcto\")\n",
        "\n",
        "else:\n",
        "  print(\"El email no es correcto\")"
      ],
      "execution_count": null,
      "outputs": [
        {
          "output_type": "stream",
          "text": [
            "El email es correcto\n"
          ],
          "name": "stdout"
        }
      ]
    },
    {
      "cell_type": "code",
      "metadata": {
        "colab": {
          "base_uri": "https://localhost:8080/"
        },
        "id": "Wdn7r1qftmOc",
        "outputId": "b3affe3d-2465-4a94-d868-7500df2dbb53"
      },
      "source": [
        "email = False\n",
        "MiEmail = input(\"Introduce tu email: \")\n",
        "for i in MiEmail:\n",
        "  if (i == \"@\"):\n",
        "    email = True\n",
        "\n",
        "if email:\n",
        "  print(\"El email es correcto\")\n",
        "\n",
        "else:\n",
        "  print(\"El email no es correcto\")"
      ],
      "execution_count": null,
      "outputs": [
        {
          "output_type": "stream",
          "text": [
            "Introduce tu email: cristhianalejo97@aragon.unam.mx\n",
            "El email es correcto\n"
          ],
          "name": "stdout"
        }
      ]
    },
    {
      "cell_type": "code",
      "metadata": {
        "colab": {
          "base_uri": "https://localhost:8080/"
        },
        "id": "hh-F1dCwvDp-",
        "outputId": "704bf0c7-bf94-4808-ff3f-1edfae7144cb"
      },
      "source": [
        "#For-Range\n",
        "\n",
        "for i in range(5):\n",
        "  print(\"Hola\")\n",
        "  \n"
      ],
      "execution_count": null,
      "outputs": [
        {
          "output_type": "stream",
          "text": [
            "Hola\n",
            "Hola\n",
            "Hola\n",
            "Hola\n",
            "Hola\n"
          ],
          "name": "stdout"
        }
      ]
    },
    {
      "cell_type": "code",
      "metadata": {
        "colab": {
          "base_uri": "https://localhost:8080/"
        },
        "id": "21fXOJPjvdNF",
        "outputId": "8a0da595-7ef0-4244-9a17-06bd5f9d5179"
      },
      "source": [
        "for i in range(5):\n",
        "  print(i)"
      ],
      "execution_count": null,
      "outputs": [
        {
          "output_type": "stream",
          "text": [
            "0\n",
            "1\n",
            "2\n",
            "3\n",
            "4\n"
          ],
          "name": "stdout"
        }
      ]
    },
    {
      "cell_type": "code",
      "metadata": {
        "colab": {
          "base_uri": "https://localhost:8080/"
        },
        "id": "SXOe_kT9wSjz",
        "outputId": "31135f5e-2401-4f60-ba07-48ab7b030b9a"
      },
      "source": [
        "for i in range(10):\n",
        "  print(f\"Valor de la variable: {i}\")"
      ],
      "execution_count": null,
      "outputs": [
        {
          "output_type": "stream",
          "text": [
            "Valor de la variable: 0\n",
            "Valor de la variable: 1\n",
            "Valor de la variable: 2\n",
            "Valor de la variable: 3\n",
            "Valor de la variable: 4\n",
            "Valor de la variable: 5\n",
            "Valor de la variable: 6\n",
            "Valor de la variable: 7\n",
            "Valor de la variable: 8\n",
            "Valor de la variable: 9\n"
          ],
          "name": "stdout"
        }
      ]
    },
    {
      "cell_type": "code",
      "metadata": {
        "id": "vA4ze1uixWH8"
      },
      "source": [
        "#while ejemplos\n",
        "\n",
        "i = 1\n",
        "while i <= 10:\n",
        "  print(\"Ejecucion\" + str (i))"
      ],
      "execution_count": null,
      "outputs": []
    },
    {
      "cell_type": "code",
      "metadata": {
        "colab": {
          "base_uri": "https://localhost:8080/"
        },
        "id": "yL1gdeDFziVh",
        "outputId": "eb038e19-54a7-4089-a968-c88436c221b6"
      },
      "source": [
        "i = 1\n",
        "while i <= 10:\n",
        "  print(\"Ejecucion: \" + str (i))\n",
        "  i = i + 1\n"
      ],
      "execution_count": null,
      "outputs": [
        {
          "output_type": "stream",
          "text": [
            "Ejecucion: 1\n",
            "Ejecucion: 2\n",
            "Ejecucion: 3\n",
            "Ejecucion: 4\n",
            "Ejecucion: 5\n",
            "Ejecucion: 6\n",
            "Ejecucion: 7\n",
            "Ejecucion: 8\n",
            "Ejecucion: 9\n",
            "Ejecucion: 10\n"
          ],
          "name": "stdout"
        }
      ]
    },
    {
      "cell_type": "code",
      "metadata": {
        "colab": {
          "base_uri": "https://localhost:8080/"
        },
        "id": "Sz2SkvqR0iAp",
        "outputId": "a39ee91f-1838-4f03-fc54-4c7779e89bee"
      },
      "source": [
        "edad = int (input(\"Introduce tu edad: \"))\n",
        "while edad < 0 :\n",
        "  print(\"Has introducido una edad negativa, Intenta de nuevo\")\n",
        "  edad = int (input(\"Introduce tu edad: \"))\n",
        "\n",
        "print(\"Gracias por participar. Puede pasar.\")\n",
        "print(\"Edad del aspirante: \" + str (edad))"
      ],
      "execution_count": null,
      "outputs": [
        {
          "output_type": "stream",
          "text": [
            "Introduce tu edad: 18\n",
            "Gracias por participar. Puede pasar.\n",
            "Edad del aspirante: 18\n"
          ],
          "name": "stdout"
        }
      ]
    },
    {
      "cell_type": "code",
      "metadata": {
        "colab": {
          "base_uri": "https://localhost:8080/"
        },
        "id": "suvoTzvb10dE",
        "outputId": "64c9c9ab-dcc9-4e8d-a9c5-9a82d369e5d6"
      },
      "source": [
        "edad = int (input(\"Introduce tu edad: \"))\n",
        "while edad < 0 or edad > 101:\n",
        "  print(\"Has introducido una edad negativa, Intenta de nuevo\")\n",
        "  edad = int (input(\"Introduce tu edad: \"))\n",
        "\n",
        "print(\"Gracias por participar. Puede pasar.\")\n",
        "print(\"Edad del aspirante: \" + str (edad))"
      ],
      "execution_count": null,
      "outputs": [
        {
          "output_type": "stream",
          "text": [
            "Introduce tu edad: 100\n",
            "Gracias por participar. Puede pasar.\n",
            "Edad del aspirante: 100\n"
          ],
          "name": "stdout"
        }
      ]
    }
  ]
}