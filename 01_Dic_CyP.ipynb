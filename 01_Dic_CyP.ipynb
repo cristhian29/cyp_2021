{
  "nbformat": 4,
  "nbformat_minor": 0,
  "metadata": {
    "colab": {
      "name": "01_Dic_CyP.ipynb",
      "provenance": [],
      "authorship_tag": "ABX9TyOc9B3jiT3PwJs3JX1QEs5i",
      "include_colab_link": true
    },
    "kernelspec": {
      "name": "python3",
      "display_name": "Python 3"
    }
  },
  "cells": [
    {
      "cell_type": "markdown",
      "metadata": {
        "id": "view-in-github",
        "colab_type": "text"
      },
      "source": [
        "<a href=\"https://colab.research.google.com/github/cristhian29/cyp_2021/blob/main/01_Dic_CyP.ipynb\" target=\"_parent\"><img src=\"https://colab.research.google.com/assets/colab-badge.svg\" alt=\"Open In Colab\"/></a>"
      ]
    },
    {
      "cell_type": "code",
      "metadata": {
        "colab": {
          "base_uri": "https://localhost:8080/"
        },
        "id": "uvlrS0K-S8Cp",
        "outputId": "6e4b1e5e-807a-4697-a3d0-3873fcd38dc0"
      },
      "source": [
        "#Ejemplo1\n",
        "#Pedir 3 numeros enteros y mostrar el mayor de los tres\n",
        "\n",
        "numero1 = int (input(\"introduce el primer numero\"))\n",
        "numero2 = int (input(\"introduce el segundo numero\"))\n",
        "numero3 = int (input(\"introduce el tercer numero\"))\n",
        "\n",
        "if numero1 >= numero2 and numero1 >= numero3 :\n",
        "  print( numero1, \" es mayor\")\n",
        "\n",
        "elif numero2 >= numero1 and numero2 >= numero3 :\n",
        "  print( numero2 , \" es mayor\")\n",
        "\n"
      ],
      "execution_count": null,
      "outputs": [
        {
          "output_type": "stream",
          "text": [
            "introduce el primer numero9\n",
            "introduce el segundo numero3\n",
            "introduce el tercer numero4\n",
            "9 es mayor\n"
          ],
          "name": "stdout"
        }
      ]
    },
    {
      "cell_type": "code",
      "metadata": {
        "colab": {
          "base_uri": "https://localhost:8080/"
        },
        "id": "yS98iUBOVbxX",
        "outputId": "86bb86d2-d7d6-4900-f222-912ba080302d"
      },
      "source": [
        "#Ejemplo2\n",
        "\n",
        "print(\"Ingrese el nombre del trabajador\")\n",
        "nombre = input()\n",
        "print(\"cuantas horas trabajo a la semana \" , nombre , \" :\")\n",
        "horas = input()\n",
        "horas = int (horas)\n",
        "print(\"cuanto se paga por hora?: \")\n",
        "sueldoH = input()\n",
        "sueldoH = float (sueldoH)\n",
        "\n",
        "#Evaluar el sueldo\n",
        "\n",
        "if (horas <= 40) :\n",
        "  pago = horas * sueldoH\n",
        "  print(\"sueldo final de \", nombre, \"es $: \", pago)\n",
        "\n",
        "else :\n",
        "  extras = horas - 40\n",
        "  pago = 40 * sueldoH\n",
        "  pagoFinal = pago + ( ( extras * sueldoH ) * 2)\n",
        "  print(\"el sueldo final de: \", nombre, \" es $: \",pagoFinal)\n"
      ],
      "execution_count": null,
      "outputs": [
        {
          "output_type": "stream",
          "text": [
            "Ingrese el nombre del trabajador\n",
            "Yair\n",
            "cuantas horas trabajo a la semana  Yair  :\n",
            "40\n",
            "cuanto se paga por hora?: \n",
            "10\n",
            "sueldo final de  Yair es $:  400.0\n"
          ],
          "name": "stdout"
        }
      ]
    },
    {
      "cell_type": "code",
      "metadata": {
        "colab": {
          "base_uri": "https://localhost:8080/"
        },
        "id": "xqyQay0TZYJX",
        "outputId": "c504a60e-5f86-4121-e364-a77497bc3b83"
      },
      "source": [
        "#Ejemplo 3\n",
        "#Calcular el salario semanal de x trabajador\n",
        "#El salario semanal se calcula en base a las horas semanales trabajadas\n",
        "#El pago por hora es variable (se pide por teclado)\n",
        "#Si las horas trabajadas superan las 40 horas, el pago por hora extra es:\n",
        "#Doble en el rango de 41horas a 50horas\n",
        "#Triple en el rango de 51horas a 60 horas\n",
        "#Incentivo de $2000 si rebasa las 60 horas.\n",
        "\n",
        "print(\"Ingrese el nombre del trabajador\")\n",
        "nombre = input()\n",
        "print(\"cuantas horas trabajo a la semana \" , nombre , \" :\")\n",
        "horas = input()\n",
        "horas = int (horas)\n",
        "print(\"cuanto se paga por hora?: \")\n",
        "sueldoH = input()\n",
        "sueldoH = float (sueldoH)\n",
        "\n",
        "#Evaluar el sueldo\n",
        "\n",
        "if (horas <= 40):\n",
        "  pago = sueldoH * horas\n",
        "  print(\"sueldo final de: \", nombre, \" es $: \", pago)\n",
        "\n",
        "elif ( horas > 40 and horas <= 50):\n",
        "  extrasDobles = horas - 40\n",
        "  print(\"Horas extras dobles: \", extrasDobles)\n",
        "  pago = 40 * sueldoH\n",
        "  print(\"sueldo base $: \", pago)\n",
        "  pagoDoble = extrasDobles + sueldoH * 2\n",
        "  print(\"pago de horas dobles:$ \", pagoDoble)\n",
        "  pagoFinal = pago + pagoDoble\n",
        "  print(\"el sueldo final de: \", nombre, \"es $: \", pagoFinal)\n",
        "\n",
        "elif ( horas > 50 and horas <= 60):\n",
        "  extrasTriples = horas - 50\n",
        "  print(\"horas extras dobles: 10 \")\n",
        "  print(\"horas extras triples: \", extrasTriples)\n",
        "  pago = 40 * sueldoH\n",
        "  print(\"sueldo base: $\",pago)\n",
        "  pagoDoble = 10 * sueldoH * 2\n",
        "  print(\"pago de extras dobles: $\", pagoDoble)\n",
        "  pagoTriple = extrasTriples * sueldoH * 3\n",
        "  print(\"pago de horas extras triples: $\", pagoTriple)\n",
        "  pagoFinal = pago + pagoDoble + pagoTriple\n",
        "  print(\"el sueldo final de\", nombre, \"es: $\", pagoFinal)\n",
        "\n",
        "else:\n",
        "  extrasTriples = 10\n",
        "  print(\"horas extras dobles: 10\")\n",
        "  print(\"horas extras triples: 10\")\n",
        "  pago = 40 * sueldoH \n",
        "  print(\"sueldo base: \",pago)\n",
        "  pagoDoble = 10 * sueldoH * 2\n",
        "  print(\"pago de horas extras dobles: \",pagoDoble)\n",
        "  pagoTriple = extrasTriples * sueldoH * 3\n",
        "  print(\"pago de horas extras triples: \",pagoTriple)\n",
        "  print(\"Incentivo por trabajar mas de 60 horas: $ 2000\")\n",
        "  pagoFinal = pago + pagoDoble + pagoTriple + 2000\n",
        "  print(\"el sueldo final de\", nombre, \"es: $\", pagoFinal)\n",
        "\n"
      ],
      "execution_count": null,
      "outputs": [
        {
          "output_type": "stream",
          "text": [
            "Ingrese el nombre del trabajador\n",
            "Yair\n",
            "cuantas horas trabajo a la semana  Yair  :\n",
            "51\n",
            "cuanto se paga por hora?: \n",
            "100\n",
            "horas extras dobles: 10 \n",
            "horas extras triples:  1\n",
            "sueldo base: $ 4000.0\n",
            "pago de extras dobles: $ 2000.0\n",
            "pago de horas extras triples: $ 300.0\n",
            "el sueldo final de Yair es: $ 6300.0\n"
          ],
          "name": "stdout"
        }
      ]
    },
    {
      "cell_type": "code",
      "metadata": {
        "colab": {
          "base_uri": "https://localhost:8080/"
        },
        "id": "5nT35P31ipca",
        "outputId": "ae5cc01d-27cd-41f4-f62e-6f35c895033e"
      },
      "source": [
        "#Estructura For\n",
        "#Ejemplo1\n",
        "\n",
        "for estaciones_del_año in [\"primavera\",\"verano\",\"otoño\",\"invierno\"]: #Es una palabra reservada y un elemento a recorrer\n",
        "  print(estaciones_del_año)\n",
        "\n",
        "#Variables que suelen formar parte de FOR son \"i\""
      ],
      "execution_count": null,
      "outputs": [
        {
          "output_type": "stream",
          "text": [
            "primavera\n",
            "verano\n",
            "otoño\n",
            "invierno\n"
          ],
          "name": "stdout"
        }
      ]
    },
    {
      "cell_type": "code",
      "metadata": {
        "id": "CL_dN_OIqbhv"
      },
      "source": [
        ""
      ],
      "execution_count": null,
      "outputs": []
    }
  ]
}