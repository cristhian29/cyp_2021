{
  "nbformat": 4,
  "nbformat_minor": 0,
  "metadata": {
    "colab": {
      "name": "28_Enero_CyP.ipynb",
      "provenance": [],
      "authorship_tag": "ABX9TyOfzHRXYN/aXnITtGmv33Bw",
      "include_colab_link": true
    },
    "kernelspec": {
      "name": "python3",
      "display_name": "Python 3"
    }
  },
  "cells": [
    {
      "cell_type": "markdown",
      "metadata": {
        "id": "view-in-github",
        "colab_type": "text"
      },
      "source": [
        "<a href=\"https://colab.research.google.com/github/cristhian29/cyp_2021/blob/main/28_Enero_CyP.ipynb\" target=\"_parent\"><img src=\"https://colab.research.google.com/assets/colab-badge.svg\" alt=\"Open In Colab\"/></a>"
      ]
    },
    {
      "cell_type": "code",
      "metadata": {
        "id": "m95acIZABKkW"
      },
      "source": [
        ""
      ],
      "execution_count": null,
      "outputs": []
    },
    {
      "cell_type": "markdown",
      "metadata": {
        "id": "Ve6kwIA2BgTD"
      },
      "source": [
        "# Tuplas\r\n",
        "- Tipo de dato lineal, estructura de datos\r\n",
        "- No mutables\r\n",
        "- Se pueden declarar con '(' Y ')'\r\n",
        "- No puedes agregar ni eliminar elementos.\r\n",
        "- Pueden ser anidadas.\r\n",
        "- Los argumentos a nua funcion son enviados como tuplas.\r\n"
      ]
    },
    {
      "cell_type": "code",
      "metadata": {
        "colab": {
          "base_uri": "https://localhost:8080/"
        },
        "id": "BO7lk9CQCduP",
        "outputId": "0faa8ec2-b24d-4a43-f403-cd7bd22012c5"
      },
      "source": [
        "frutas = ('Sandia','Melon','Limon','Mango')\r\n",
        "print(frutas)\r\n",
        "print(frutas[1:3:1])\r\n",
        "print(frutas.count('Melon'))\r\n",
        "print(frutas.count('Manzana'))\r\n",
        "\r\n",
        "#Son inmutables\r\n",
        "#frutas[1]=\"manzana\"\r\n",
        "#¿Para que se usan?\r\n",
        "conexion = ('132.248.12.12','3306',3306, 'CyP','usr_test','12345',)\r\n",
        "print(f\"usuario:{conexion[4]} y pasword:{conexion[5]}\")"
      ],
      "execution_count": 9,
      "outputs": [
        {
          "output_type": "stream",
          "text": [
            "('Sandia', 'Melon', 'Limon', 'Mango')\n",
            "('Melon', 'Limon')\n",
            "1\n",
            "0\n",
            "usuario:usr_test y pasword:12345\n"
          ],
          "name": "stdout"
        }
      ]
    },
    {
      "cell_type": "markdown",
      "metadata": {
        "id": "n2_zJp6KGJDH"
      },
      "source": [
        "# Diccionarios\r\n",
        "- Estructura de datos semi lineal\r\n",
        "- Utiliza organizacion por funcion de distersion.\r\n",
        "- Se declara con los elementos '{' Y '}'\r\n",
        "-El selector usa valores de tipo string (llave) \r\n",
        "-No se puede seleccionar por offset[1]\r\n",
        "- Son mutables"
      ]
    },
    {
      "cell_type": "code",
      "metadata": {
        "colab": {
          "base_uri": "https://localhost:8080/"
        },
        "id": "fY1xbahMG9TG",
        "outputId": "7863d3de-49b3-4a97-c37d-772a061f82a9"
      },
      "source": [
        "alumno = {'nombre':'Cristhian López','edad':18, 'estura':1.70,}\r\n",
        "print(alumno)\r\n",
        "print(alumno['nombre'])"
      ],
      "execution_count": 16,
      "outputs": [
        {
          "output_type": "stream",
          "text": [
            "{'nombre': 'Cristhian López', 'edad': '18'}\n",
            "Cristhian López\n"
          ],
          "name": "stdout"
        }
      ]
    },
    {
      "cell_type": "code",
      "metadata": {
        "colab": {
          "base_uri": "https://localhost:8080/"
        },
        "id": "parXX6rjLyQs",
        "outputId": "f1be5ee7-0fb9-472d-af3f-df4683683358"
      },
      "source": [
        "alumno = {'nombre':'Cristhian López','edad':19,'altura':1.70,'estatus':'Aprobado','numeros':[555645902, 55326372]}\r\n",
        "print(alumno)\r\n",
        "print( alumno ['numeros'])\r\n",
        "print(f\"Celular del alumno:{alumno['numeros'][0]}\")\r\n",
        "#Segundo telefono\r\n",
        "print(f\"Celular del alumno:{alumno['numeros'][1]}\")\r\n"
      ],
      "execution_count": 27,
      "outputs": [
        {
          "output_type": "stream",
          "text": [
            "{'nombre': 'Cristhian López', 'edad': 19, 'altura': 1.7, 'estatus': 'Aprobado', 'numeros': [555645902, 55326372]}\n",
            "[555645902, 55326372]\n",
            "Celular del alumno:555645902\n",
            "Celular del alumno:55326372\n"
          ],
          "name": "stdout"
        }
      ]
    },
    {
      "cell_type": "code",
      "metadata": {
        "colab": {
          "base_uri": "https://localhost:8080/"
        },
        "id": "MemAQ-zKNcty",
        "outputId": "50baa9e9-ec0f-4dc8-b429-2b18257dac63"
      },
      "source": [
        "alumno = {'nombre' : 'Cristhian López', \r\n",
        "        'edad' : 18,\r\n",
        "        'Matricula': 312193, \r\n",
        "        'calificaciones' :\r\n",
        "        {'Mate': 8 , 'ciencias': 9, 'ingles': 8}, \r\n",
        "        'aprovado' : True ,\r\n",
        "        'direccion':{\r\n",
        "                    'calle':'rancho seco',\r\n",
        "                     'numero':'s/n',\r\n",
        "                     'colonia':'impulsora avicola',\r\n",
        "                     'municipio':'mi-nezota',\r\n",
        "                     'estado':{\r\n",
        "                              'clave':15,\r\n",
        "                               'nombre_clave':'mex',\r\n",
        "                               'nombre':'estado de mexico'\r\n",
        "                              }            \r\n",
        "                    }\r\n",
        "        }\r\n",
        "print(alumno)\r\n",
        "print(alumno['nombre'])\r\n",
        "print(alumno['calificaciones'])\r\n",
        "print(alumno['calificaciones']['ciencias'])\r\n",
        "#nombre:todo en mayuscula\r\n",
        "print(alumno['nombre'].upper())\r\n",
        "print(\"------------------------------------------\")\r\n",
        "print(alumno)\r\n",
        "alumno['seguro']= True\r\n",
        "print(alumno)\r\n",
        "print(\"---------------------------------------------\")\r\n",
        "alumno['direccion']['cp']=57170\r\n",
        "print(alumno)\r\n"
      ],
      "execution_count": 30,
      "outputs": [
        {
          "output_type": "stream",
          "text": [
            "{'nombre': 'Cristhian López', 'edad': 18, 'Matricula': 312193, 'calificaciones': {'Mate': 8, 'ciencias': 9, 'ingles': 8}, 'aprovado': True, 'direccion': {'calle': 'rancho seco', 'numero': 's/n', 'colonia': 'impulsora avicola', 'municipio': 'mi-nezota', 'estado': {'clave': 15, 'nombre_clave': 'mex', 'nombre': 'estado de mexico'}}}\n",
            "Cristhian López\n",
            "{'Mate': 8, 'ciencias': 9, 'ingles': 8}\n",
            "9\n",
            "CRISTHIAN LÓPEZ\n",
            "------------------------------------------\n",
            "{'nombre': 'Cristhian López', 'edad': 18, 'Matricula': 312193, 'calificaciones': {'Mate': 8, 'ciencias': 9, 'ingles': 8}, 'aprovado': True, 'direccion': {'calle': 'rancho seco', 'numero': 's/n', 'colonia': 'impulsora avicola', 'municipio': 'mi-nezota', 'estado': {'clave': 15, 'nombre_clave': 'mex', 'nombre': 'estado de mexico'}}}\n",
            "{'nombre': 'Cristhian López', 'edad': 18, 'Matricula': 312193, 'calificaciones': {'Mate': 8, 'ciencias': 9, 'ingles': 8}, 'aprovado': True, 'direccion': {'calle': 'rancho seco', 'numero': 's/n', 'colonia': 'impulsora avicola', 'municipio': 'mi-nezota', 'estado': {'clave': 15, 'nombre_clave': 'mex', 'nombre': 'estado de mexico'}}, 'seguro': True}\n",
            "---------------------------------------------\n",
            "{'nombre': 'Cristhian López', 'edad': 18, 'Matricula': 312193, 'calificaciones': {'Mate': 8, 'ciencias': 9, 'ingles': 8}, 'aprovado': True, 'direccion': {'calle': 'rancho seco', 'numero': 's/n', 'colonia': 'impulsora avicola', 'municipio': 'mi-nezota', 'estado': {'clave': 15, 'nombre_clave': 'mex', 'nombre': 'estado de mexico'}, 'cp': 57170}, 'seguro': True}\n"
          ],
          "name": "stdout"
        }
      ]
    },
    {
      "cell_type": "code",
      "metadata": {
        "id": "4zDq0z6gVNC7"
      },
      "source": [
        "cliente = {}"
      ],
      "execution_count": null,
      "outputs": []
    },
    {
      "cell_type": "code",
      "metadata": {
        "colab": {
          "base_uri": "https://localhost:8080/"
        },
        "id": "dj7NeUWJVEFe",
        "outputId": "1c6eb56e-796e-49ba-a9c1-2ee8c12f73da"
      },
      "source": [
        "funciones = dir(dict)\r\n",
        "for funcion in funciones:\r\n",
        "  print(funcion)"
      ],
      "execution_count": 31,
      "outputs": [
        {
          "output_type": "stream",
          "text": [
            "__class__\n",
            "__contains__\n",
            "__delattr__\n",
            "__delitem__\n",
            "__dir__\n",
            "__doc__\n",
            "__eq__\n",
            "__format__\n",
            "__ge__\n",
            "__getattribute__\n",
            "__getitem__\n",
            "__gt__\n",
            "__hash__\n",
            "__init__\n",
            "__init_subclass__\n",
            "__iter__\n",
            "__le__\n",
            "__len__\n",
            "__lt__\n",
            "__ne__\n",
            "__new__\n",
            "__reduce__\n",
            "__reduce_ex__\n",
            "__repr__\n",
            "__setattr__\n",
            "__setitem__\n",
            "__sizeof__\n",
            "__str__\n",
            "__subclasshook__\n",
            "clear\n",
            "copy\n",
            "fromkeys\n",
            "get\n",
            "items\n",
            "keys\n",
            "pop\n",
            "popitem\n",
            "setdefault\n",
            "update\n",
            "values\n"
          ],
          "name": "stdout"
        }
      ]
    },
    {
      "cell_type": "markdown",
      "metadata": {
        "id": "1GnPs5QVVuXA"
      },
      "source": [
        "# Manipulacion de los pares llaves valor,\r\n",
        "para ello se emplean los metodos:\r\n",
        "- keys() te regresa una tupla con los string llave del diccionario\r\n",
        "- vaules()te regresa solo los valores\r\n",
        "- items() te regresa los pares"
      ]
    },
    {
      "cell_type": "code",
      "metadata": {
        "colab": {
          "base_uri": "https://localhost:8080/"
        },
        "id": "_23KWw7VWRCz",
        "outputId": "b928cc02-b7b0-4360-c254-0a0fd2c12932"
      },
      "source": [
        "print(alumno)\r\n",
        "llaves = alumno.keys()\r\n",
        "print(llaves)\r\n",
        "for elem in llaves:\r\n",
        "  print(elem)\r\n",
        "  print(alumno[elem])\r\n",
        "  print('---------------')\r\n",
        "#print(help(llaves))\r\n",
        "\r\n",
        "#Manipular los valores\r\n",
        "valores = alumno.values()\r\n",
        "print(valores)\r\n",
        "for val in valores:\r\n",
        "  print(val)\r\n",
        "print(\"------------------\")\r\n",
        "#Manipular pares\r\n",
        "pares = alumno.items()\r\n",
        "print(pares)\r\n",
        "for par in pares:\r\n",
        "  print(par)"
      ],
      "execution_count": 45,
      "outputs": [
        {
          "output_type": "stream",
          "text": [
            "{'nombre': 'Cristhian López', 'edad': 18, 'Matricula': 312193, 'calificaciones': {'Mate': 8, 'ciencias': 9, 'ingles': 8}, 'aprovado': True, 'direccion': {'calle': 'rancho seco', 'numero': 's/n', 'colonia': 'impulsora avicola', 'municipio': 'mi-nezota', 'estado': {'clave': 15, 'nombre_clave': 'mex', 'nombre': 'estado de mexico'}, 'cp': 57170}, 'seguro': True}\n",
            "dict_keys(['nombre', 'edad', 'Matricula', 'calificaciones', 'aprovado', 'direccion', 'seguro'])\n",
            "nombre\n",
            "Cristhian López\n",
            "---------------\n",
            "edad\n",
            "18\n",
            "---------------\n",
            "Matricula\n",
            "312193\n",
            "---------------\n",
            "calificaciones\n",
            "{'Mate': 8, 'ciencias': 9, 'ingles': 8}\n",
            "---------------\n",
            "aprovado\n",
            "True\n",
            "---------------\n",
            "direccion\n",
            "{'calle': 'rancho seco', 'numero': 's/n', 'colonia': 'impulsora avicola', 'municipio': 'mi-nezota', 'estado': {'clave': 15, 'nombre_clave': 'mex', 'nombre': 'estado de mexico'}, 'cp': 57170}\n",
            "---------------\n",
            "seguro\n",
            "True\n",
            "---------------\n",
            "dict_values(['Cristhian López', 18, 312193, {'Mate': 8, 'ciencias': 9, 'ingles': 8}, True, {'calle': 'rancho seco', 'numero': 's/n', 'colonia': 'impulsora avicola', 'municipio': 'mi-nezota', 'estado': {'clave': 15, 'nombre_clave': 'mex', 'nombre': 'estado de mexico'}, 'cp': 57170}, True])\n",
            "Cristhian López\n",
            "18\n",
            "312193\n",
            "{'Mate': 8, 'ciencias': 9, 'ingles': 8}\n",
            "True\n",
            "{'calle': 'rancho seco', 'numero': 's/n', 'colonia': 'impulsora avicola', 'municipio': 'mi-nezota', 'estado': {'clave': 15, 'nombre_clave': 'mex', 'nombre': 'estado de mexico'}, 'cp': 57170}\n",
            "True\n",
            "------------------\n",
            "dict_items([('nombre', 'Cristhian López'), ('edad', 18), ('Matricula', 312193), ('calificaciones', {'Mate': 8, 'ciencias': 9, 'ingles': 8}), ('aprovado', True), ('direccion', {'calle': 'rancho seco', 'numero': 's/n', 'colonia': 'impulsora avicola', 'municipio': 'mi-nezota', 'estado': {'clave': 15, 'nombre_clave': 'mex', 'nombre': 'estado de mexico'}, 'cp': 57170}), ('seguro', True)])\n",
            "('nombre', 'Cristhian López')\n",
            "('edad', 18)\n",
            "('Matricula', 312193)\n",
            "('calificaciones', {'Mate': 8, 'ciencias': 9, 'ingles': 8})\n",
            "('aprovado', True)\n",
            "('direccion', {'calle': 'rancho seco', 'numero': 's/n', 'colonia': 'impulsora avicola', 'municipio': 'mi-nezota', 'estado': {'clave': 15, 'nombre_clave': 'mex', 'nombre': 'estado de mexico'}, 'cp': 57170})\n",
            "('seguro', True)\n"
          ],
          "name": "stdout"
        }
      ]
    }
  ]
}