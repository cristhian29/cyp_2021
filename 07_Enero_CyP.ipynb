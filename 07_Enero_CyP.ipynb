{
  "nbformat": 4,
  "nbformat_minor": 0,
  "metadata": {
    "colab": {
      "name": "07_Enero_CyP.ipynb",
      "provenance": [],
      "collapsed_sections": [],
      "authorship_tag": "ABX9TyOEzDea82wgFVRpFC6qznSs",
      "include_colab_link": true
    },
    "kernelspec": {
      "name": "python3",
      "display_name": "Python 3"
    }
  },
  "cells": [
    {
      "cell_type": "markdown",
      "metadata": {
        "id": "view-in-github",
        "colab_type": "text"
      },
      "source": [
        "<a href=\"https://colab.research.google.com/github/cristhian29/cyp_2021/blob/main/07_Enero_CyP.ipynb\" target=\"_parent\"><img src=\"https://colab.research.google.com/assets/colab-badge.svg\" alt=\"Open In Colab\"/></a>"
      ]
    },
    {
      "cell_type": "code",
      "metadata": {
        "colab": {
          "base_uri": "https://localhost:8080/"
        },
        "id": "2bPB3Igb4ufc",
        "outputId": "b378dc69-5a55-47c5-9e52-af778c270a46"
      },
      "source": [
        "REN = 3\r\n",
        "COL = 5\r\n",
        "VEC = [[ 0 for x in range(COL)] for x in range(REN)]\r\n",
        "print(VEC)\r\n",
        "VEC [1][2] = 15\r\n",
        "print(VEC)\r\n",
        "\r\n",
        "print(\"Automatizar el recorrido del arreglo\")\r\n",
        "for i in range(REN):\r\n",
        "  for j in range(COL):\r\n",
        "    print(f\"{i},{j} = {VEC[i][j]}\")\r\n"
      ],
      "execution_count": 6,
      "outputs": [
        {
          "output_type": "stream",
          "text": [
            "[[0, 0, 0, 0, 0], [0, 0, 0, 0, 0], [0, 0, 0, 0, 0]]\n",
            "[[0, 0, 0, 0, 0], [0, 0, 15, 0, 0], [0, 0, 0, 0, 0]]\n",
            "Automatizar el recorrido del arreglo\n",
            "0,0 = 0\n",
            "0,1 = 0\n",
            "0,2 = 0\n",
            "0,3 = 0\n",
            "0,4 = 0\n",
            "1,0 = 0\n",
            "1,1 = 0\n",
            "1,2 = 15\n",
            "1,3 = 0\n",
            "1,4 = 0\n",
            "2,0 = 0\n",
            "2,1 = 0\n",
            "2,2 = 0\n",
            "2,3 = 0\n",
            "2,4 = 0\n"
          ],
          "name": "stdout"
        }
      ]
    },
    {
      "cell_type": "code",
      "metadata": {
        "colab": {
          "base_uri": "https://localhost:8080/"
        },
        "id": "IGX6HV0iFXMl",
        "outputId": "d6eed969-ec39-4a3b-a7e0-529bc96ecacd"
      },
      "source": [
        "estados= int (input(\"Cuantos estados son?: \"))\r\n",
        "lluvias_men_est= [ [0 for x in range(12)] for x in range(estados)]\r\n",
        "print(lluvias_men_est)\r\n",
        "for i in range(estados):\r\n",
        "  for j in range(12):\r\n",
        "    mensaje = \"dame el valor del estado \"+ str (i + 1) + \" del mes \" + str (j + 1),\":\"\r\n",
        "    aux = int (input(mensaje))\r\n",
        "    lluvias_men_est[i][j] = aux\r\n",
        "\r\n",
        "print(lluvias_men_est)\r\n",
        "\r\n",
        "print(\"promedio lluvia de los estados\")\r\n",
        "suma = 0\r\n",
        "for i in range(estados):\r\n",
        "  suma = 0\r\n",
        "  for j in range(12):\r\n",
        "    suma = suma + lluvias_men_est[i][j]\r\n",
        "  print(f\"promedio de lluvias en el estado {i + 1} es {suma / 12}\")\r\n"
      ],
      "execution_count": 27,
      "outputs": [
        {
          "output_type": "stream",
          "text": [
            "Cuantos estados son?: 1\n",
            "[[0, 0, 0, 0, 0, 0, 0, 0, 0, 0, 0, 0]]\n",
            "dame el valor del estado 1 del mes 1,:50\n",
            "dame el valor del estado 1 del mes 2,:7\n",
            "dame el valor del estado 1 del mes 3,:12\n",
            "dame el valor del estado 1 del mes 4,:15\n",
            "dame el valor del estado 1 del mes 5,:22\n",
            "dame el valor del estado 1 del mes 6,:50\n",
            "dame el valor del estado 1 del mes 7,:85\n",
            "dame el valor del estado 1 del mes 8,:70\n",
            "dame el valor del estado 1 del mes 9,:65\n",
            "dame el valor del estado 1 del mes 10,:28\n",
            "dame el valor del estado 1 del mes 11,:35\n",
            "dame el valor del estado 1 del mes 12,:17\n",
            "[[50, 7, 12, 15, 22, 50, 85, 70, 65, 28, 35, 17]]\n",
            "promedio lluvia de los estados\n",
            "promedio de lluvias en el estado 1 es 38.0\n"
          ],
          "name": "stdout"
        }
      ]
    }
  ]
}