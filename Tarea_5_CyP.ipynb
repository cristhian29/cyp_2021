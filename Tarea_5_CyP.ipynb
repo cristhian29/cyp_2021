{
  "nbformat": 4,
  "nbformat_minor": 0,
  "metadata": {
    "colab": {
      "name": "Tarea_5_CyP.ipynb",
      "provenance": [],
      "authorship_tag": "ABX9TyP/gO1iZ0PEEVg8zafTUQpT",
      "include_colab_link": true
    },
    "kernelspec": {
      "name": "python3",
      "display_name": "Python 3"
    }
  },
  "cells": [
    {
      "cell_type": "markdown",
      "metadata": {
        "id": "view-in-github",
        "colab_type": "text"
      },
      "source": [
        "<a href=\"https://colab.research.google.com/github/cristhian29/cyp_2021/blob/main/Tarea_5_CyP.ipynb\" target=\"_parent\"><img src=\"https://colab.research.google.com/assets/colab-badge.svg\" alt=\"Open In Colab\"/></a>"
      ]
    },
    {
      "cell_type": "code",
      "metadata": {
        "id": "vwP6kI8pTTEu"
      },
      "source": [
        "#Ejemplo 3.1\n",
        "\n",
        "print(\"Nomina de la Empresa:\")\n",
        "SUE1 = float (input(\"Sueldo 1: \"))\n",
        "SUE2 = float (input(\"Sueldo 2: \"))\n",
        "SUE3 = float (input(\"Sueldo 3: \"))\n",
        "SUE4 = float (input(\"Sueldo 4: \"))\n",
        "SUE5 = float (input(\"Sueldo 5: \"))\n",
        "SUE6 = float (input(\"Sueldo 6: \"))\n",
        "SUE7 = float (input(\"Sueldo 7: \"))\n",
        "SUE8 = float (input(\"Sueldo 8: \"))\n",
        "SUE9 = float (input(\"Sueldo 9: \"))\n",
        "SUE10 = float (input(\"Sueldo 10: \"))\n",
        "\n",
        "NOMINA = SUE1 + SUE2 + SUE3 + SUE4 + SUE5 + SUE6 + SUE7 + SUE8 + SUE9 + SUE10\n",
        "\n",
        "print(\"Nomina: \",NOMINA)\n"
      ],
      "execution_count": null,
      "outputs": []
    },
    {
      "cell_type": "code",
      "metadata": {
        "colab": {
          "base_uri": "https://localhost:8080/"
        },
        "id": "dxIhhMB3YJLt",
        "outputId": "34b4d9e1-0488-48f9-a42b-780cc2bbb747"
      },
      "source": [
        "#Ejemplo 3.4\n",
        "\n",
        "SUMGAS = 0\n",
        "GASTO = float (input(\"Gasto: \"))\n",
        "\n",
        "while GASTO > -1:\n",
        "  SUMGAS = SUMGAS + GASTO\n",
        "  GASTO = float (input(\"Gasto: \"))\n",
        "\n",
        "print(\"Gasto total: \",SUMGAS)"
      ],
      "execution_count": 13,
      "outputs": [
        {
          "output_type": "stream",
          "text": [
            "Gasto: 2528\n",
            "Gasto: 3500\n",
            "Gasto: 1600\n",
            "Gasto: 1850\n",
            "Gasto: 150\n",
            "Gasto: -1\n",
            "Gasto total:  9628.0\n"
          ],
          "name": "stdout"
        }
      ]
    },
    {
      "cell_type": "code",
      "metadata": {
        "id": "E2AuGUPJbUD5"
      },
      "source": [
        ""
      ],
      "execution_count": null,
      "outputs": []
    }
  ]
}